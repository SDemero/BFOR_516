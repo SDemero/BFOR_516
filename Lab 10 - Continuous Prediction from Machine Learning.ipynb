{
 "cells": [
  {
   "cell_type": "markdown",
   "metadata": {},
   "source": [
    "# Continuous Prediction, Continued...\n",
    "In this lab, we will learn how to use machine learning \n",
    "estimators for continuous predictions. These models\n",
    "do not have the rigid assumptions of classical linear \n",
    "regression, which makes them more flexible; however,\n",
    "the fitted models are essentially a black box. This\n",
    "limits insights into the variables that contribute\n",
    "to accuracy.\n",
    "\n",
    "We will continue with the loan quality dataset. We\n",
    "will use several different machine learning algorithms\n",
    "and compare the new results with the linear regressions\n",
    "from last week.\n",
    "\n",
    "# Predicting Loan Quality\n",
    "\n",
    "One of the most imporant aspects of lending is determining the\n",
    "interest rate to give a customer. Set rates too high, and the\n",
    "customer may choose another lender. Set rates too low, and \n",
    "lender may not earn enough interest to offset defaults and other expenses.\n",
    "\n",
    "The data for this exercise comes from Lending Club, a peer-to-peer lending company.\n",
    "They facilitate loans and allow individuals to make loans or borrow money (you \n",
    "can read more about them on \n",
    "[Wikipedia](https://en.wikipedia.org/wiki/Lending_Club).\n",
    "\n",
    "Download the loan data that is on Blackboard. This is not the newest data, \n",
    "but it has the outcomes of many loans that have reached maturity. We can use the first dataset\n",
    "to train and the second to test. You should also download the data dictionary. "
   ]
  },
  {
   "cell_type": "code",
   "execution_count": 2,
   "metadata": {},
   "outputs": [],
   "source": [
    "import pandas as pd\n",
    "import numpy as np\n",
    "import statsmodels.api as sm\n",
    "from sklearn import metrics"
   ]
  },
  {
   "cell_type": "markdown",
   "metadata": {},
   "source": [
    "## Preprocessing\n",
    "First, let's read in the dataframe."
   ]
  },
  {
   "cell_type": "code",
   "execution_count": 3,
   "metadata": {},
   "outputs": [
    {
     "name": "stderr",
     "output_type": "stream",
     "text": [
      "/var/folders/ll/5fnyw07s0p74sdfnrqqwwhgc0000gn/T/ipykernel_43669/3818941270.py:1: DtypeWarning: Columns (20,60,119,130,131,132,135,136,137,140,146,147,148) have mixed types. Specify dtype option on import or set low_memory=False.\n",
      "  ld = pd.read_csv('data/lendingclub_2015-2018.csv')\n"
     ]
    }
   ],
   "source": [
    "ld = pd.read_csv('data/lendingclub_2015-2018.csv')"
   ]
  },
  {
   "cell_type": "markdown",
   "metadata": {},
   "source": [
    "## Subsampling\n",
    "\n",
    "The size of this dataset causes model training to take a very long time. \n",
    "I will take a random subsample to speed up the process. "
   ]
  },
  {
   "cell_type": "code",
   "execution_count": 4,
   "metadata": {},
   "outputs": [],
   "source": [
    "ld = ld.sample(100000, random_state=516)"
   ]
  },
  {
   "cell_type": "code",
   "execution_count": 5,
   "metadata": {},
   "outputs": [],
   "source": [
    "# the subsampling above has the rows in random order\n",
    "# this orders the rows on the index column.\n",
    "ld.sort_index(inplace=True)"
   ]
  },
  {
   "cell_type": "markdown",
   "metadata": {},
   "source": [
    "### Loan Amount\n",
    "First, let's look at the distribution of loan amounts."
   ]
  },
  {
   "cell_type": "code",
   "execution_count": 6,
   "metadata": {},
   "outputs": [
    {
     "data": {
      "text/plain": [
       "<AxesSubplot:>"
      ]
     },
     "execution_count": 6,
     "metadata": {},
     "output_type": "execute_result"
    },
    {
     "data": {
      "image/png": "[encoded data removed]",
      "text/plain": [
       "<Figure size 432x288 with 1 Axes>"
      ]
     },
     "metadata": {
      "needs_background": "light"
     },
     "output_type": "display_data"
    }
   ],
   "source": [
    "ld['loan_amnt'].hist()"
   ]
  },
  {
   "cell_type": "markdown",
   "metadata": {},
   "source": [
    "### Annual Income\n",
    "Annual income is not as neatly distributed as some of the other variables. There are several observations that report income of greater than \\$1mn, and \n",
    "many who report no income at all."
   ]
  },
  {
   "cell_type": "code",
   "execution_count": 7,
   "metadata": {},
   "outputs": [
    {
     "data": {
      "text/plain": [
       "<AxesSubplot:>"
      ]
     },
     "execution_count": 7,
     "metadata": {},
     "output_type": "execute_result"
    },
    {
     "data": {
      "image/png": "[encoded data removed]",
      "text/plain": [
       "<Figure size 432x288 with 1 Axes>"
      ]
     },
     "metadata": {
      "needs_background": "light"
     },
     "output_type": "display_data"
    }
   ],
   "source": [
    "ld['annual_inc'].hist(bins=50)"
   ]
  },
  {
   "cell_type": "markdown",
   "metadata": {
    "tags": []
   },
   "source": [
    "### Rescaling\n",
    "Some of the columns that we will use are on very different scales. For example, loan amount and annual income range from 0 to tens of thousands of dollars,\n",
    "whereas the debt-to-income (`dti`) range is much smaller. This can cause issues when fitting the models.\n",
    "\n",
    "We will transform the income variable using a log transformation. This will make the distribution closer to a bell curve. I added 1 to annual\n",
    "income, since $log(0)$ is undefined.\n"
   ]
  },
  {
   "cell_type": "code",
   "execution_count": 8,
   "metadata": {},
   "outputs": [
    {
     "data": {
      "text/plain": [
       "<AxesSubplot:>"
      ]
     },
     "execution_count": 8,
     "metadata": {},
     "output_type": "execute_result"
    },
    {
     "data": {
      "image/png": "[encoded data removed]",
      "text/plain": [
       "<Figure size 432x288 with 1 Axes>"
      ]
     },
     "metadata": {
      "needs_background": "light"
     },
     "output_type": "display_data"
    }
   ],
   "source": [
    "ld['log_annual_inc'] = np.log(ld['annual_inc']+1)\n",
    "ld['log_annual_inc'].hist(bins=100)"
   ]
  },
  {
   "cell_type": "markdown",
   "metadata": {},
   "source": [
    "### Loan Duration\n",
    "The loan duration column is formatted as a text string, and must be cleaned up for analysis."
   ]
  },
  {
   "cell_type": "code",
   "execution_count": 9,
   "metadata": {},
   "outputs": [
    {
     "name": "stdout",
     "output_type": "stream",
     "text": [
      "4     [, 36, months]\n",
      "6     [, 36, months]\n",
      "11    [, 36, months]\n",
      "13    [, 36, months]\n",
      "16    [, 36, months]\n",
      "Name: term, dtype: object\n"
     ]
    }
   ],
   "source": [
    "# view unique values\n",
    "ld['term'].unique()\n",
    "\n",
    "# split rows into parts\n",
    "term_split = ld['term'].str.split(' ')\n",
    "\n",
    "# view first five rows\n",
    "print(term_split[:5])"
   ]
  },
  {
   "cell_type": "code",
   "execution_count": 10,
   "metadata": {},
   "outputs": [
    {
     "data": {
      "text/plain": [
       "4     36\n",
       "6     36\n",
       "11    36\n",
       "13    36\n",
       "16    36\n",
       "Name: duration, dtype: object"
      ]
     },
     "metadata": {},
     "output_type": "display_data"
    }
   ],
   "source": [
    "# the str function can retrieve a specific list element for all rows\n",
    "term_split.str[1]\n",
    "ld['duration'] = term_split.str[1]\n",
    "\n",
    "# add this to the dataframe\n",
    "display(ld['duration'].head())\n",
    "# this column is not in integer format. Must fix!"
   ]
  },
  {
   "cell_type": "code",
   "execution_count": 11,
   "metadata": {},
   "outputs": [
    {
     "data": {
      "text/plain": [
       "4     36\n",
       "6     36\n",
       "11    36\n",
       "13    36\n",
       "16    36\n",
       "Name: duration, dtype: int64"
      ]
     },
     "metadata": {},
     "output_type": "display_data"
    }
   ],
   "source": [
    "# convert column to integer\n",
    "ld['duration'] = ld['duration'].apply(int)\n",
    "display(ld['duration'].head())"
   ]
  },
  {
   "cell_type": "markdown",
   "metadata": {},
   "source": [
    "## Descriptives\n",
    "After doing general data cleaning, produce descriptive stats for all numerical columns."
   ]
  },
  {
   "cell_type": "code",
   "execution_count": 12,
   "metadata": {},
   "outputs": [
    {
     "name": "stdout",
     "output_type": "stream",
     "text": [
      "              index            id  member_id      loan_amnt    funded_amnt  \\\n",
      "count  100000.00000  1.000000e+05        0.0  100000.000000  100000.000000   \n",
      "mean   124842.97264  8.024008e+07        NaN   15044.947750   15040.144500   \n",
      "std     72085.70044  4.499191e+07        NaN    9177.620881    9176.430228   \n",
      "min         4.00000  9.327700e+04        NaN     500.000000     500.000000   \n",
      "25%     62547.75000  4.497635e+07        NaN    8000.000000    8000.000000   \n",
      "50%    124541.00000  8.434902e+07        NaN   12800.000000   12800.000000   \n",
      "75%    187384.50000  1.223612e+08        NaN   20000.000000   20000.000000   \n",
      "max    249995.00000  1.456423e+08        NaN   40000.000000   40000.000000   \n",
      "\n",
      "       funded_amnt_inv       int_rate    installment    annual_inc  \\\n",
      "count    100000.000000  100000.000000  100000.000000  1.000000e+05   \n",
      "mean      15022.270052      13.085624     445.303939  7.787106e+04   \n",
      "std        9180.568392       4.844571     266.093421  7.646135e+04   \n",
      "min           0.000000       5.310000      15.690000  0.000000e+00   \n",
      "25%        8000.000000       9.490000     252.880000  4.600000e+04   \n",
      "50%       12800.000000      12.620000     377.980000  6.500000e+04   \n",
      "75%       20000.000000      15.990000     591.497500  9.300000e+04   \n",
      "max       40000.000000      30.990000    1584.900000  7.300000e+06   \n",
      "\n",
      "                dti  ...  hardship_length  hardship_dpd  \\\n",
      "count  99904.000000  ...            507.0    507.000000   \n",
      "mean      18.832411  ...              3.0     14.094675   \n",
      "std       14.171537  ...              0.0      9.612395   \n",
      "min        0.000000  ...              3.0      0.000000   \n",
      "25%       11.940000  ...              3.0      6.000000   \n",
      "50%       17.840000  ...              3.0     15.000000   \n",
      "75%       24.460000  ...              3.0     22.000000   \n",
      "max      999.000000  ...              3.0     29.000000   \n",
      "\n",
      "       orig_projected_additional_accrued_interest  \\\n",
      "count                                  409.000000   \n",
      "mean                                   445.691883   \n",
      "std                                    392.124026   \n",
      "min                                     12.270000   \n",
      "25%                                    161.640000   \n",
      "50%                                    345.720000   \n",
      "75%                                    584.760000   \n",
      "max                                   2679.150000   \n",
      "\n",
      "       hardship_payoff_balance_amount  hardship_last_payment_amount  \\\n",
      "count                      507.000000                    507.000000   \n",
      "mean                     11447.892604                    203.389606   \n",
      "std                       7415.954972                    210.430683   \n",
      "min                        602.460000                      0.030000   \n",
      "25%                       5545.855000                     49.415000   \n",
      "50%                       9844.440000                    135.700000   \n",
      "75%                      15808.450000                    284.640000   \n",
      "max                      36334.160000                   1206.060000   \n",
      "\n",
      "       settlement_amount  settlement_percentage  settlement_term  \\\n",
      "count        1495.000000            1495.000000      1495.000000   \n",
      "mean         5099.189538              47.706033        13.199331   \n",
      "std          3804.298504               6.835378         7.893985   \n",
      "min           130.000000              20.000000         0.000000   \n",
      "25%          2308.000000              45.000000         6.000000   \n",
      "50%          4192.000000              45.010000        14.000000   \n",
      "75%          6934.910000              50.000000        18.000000   \n",
      "max         27850.000000              95.130000        36.000000   \n",
      "\n",
      "            duration  log_annual_inc  \n",
      "count  100000.000000   100000.000000  \n",
      "mean       42.955200       11.084980  \n",
      "std        10.888121        0.655790  \n",
      "min        36.000000        0.000000  \n",
      "25%        36.000000       10.736418  \n",
      "50%        36.000000       11.082158  \n",
      "75%        60.000000       11.440366  \n",
      "max        60.000000       15.803385  \n",
      "\n",
      "[8 rows x 117 columns]\n"
     ]
    }
   ],
   "source": [
    "descriptives = ld.describe()\n",
    "print(descriptives)"
   ]
  },
  {
   "cell_type": "markdown",
   "metadata": {},
   "source": [
    "### Correlations\n",
    "Let's run some correlations to see how some columns relate to one another"
   ]
  },
  {
   "cell_type": "code",
   "execution_count": 13,
   "metadata": {},
   "outputs": [
    {
     "data": {
      "text/html": [
       "<style type=\"text/css\">\n",
       "#T_253c5_row0_col0, #T_253c5_row1_col1, #T_253c5_row2_col2, #T_253c5_row3_col3, #T_253c5_row4_col4, #T_253c5_row5_col5, #T_253c5_row6_col6, #T_253c5_row7_col7 {\n",
       "  background-color: #b40426;\n",
       "  color: #f1f1f1;\n",
       "}\n",
       "#T_253c5_row0_col1 {\n",
       "  background-color: #4b64d5;\n",
       "  color: #f1f1f1;\n",
       "}\n",
       "#T_253c5_row0_col2, #T_253c5_row6_col2 {\n",
       "  background-color: #5470de;\n",
       "  color: #f1f1f1;\n",
       "}\n",
       "#T_253c5_row0_col3 {\n",
       "  background-color: #5a78e4;\n",
       "  color: #f1f1f1;\n",
       "}\n",
       "#T_253c5_row0_col4, #T_253c5_row3_col1, #T_253c5_row4_col1 {\n",
       "  background-color: #b6cefa;\n",
       "  color: #000000;\n",
       "}\n",
       "#T_253c5_row0_col5 {\n",
       "  background-color: #465ecf;\n",
       "  color: #f1f1f1;\n",
       "}\n",
       "#T_253c5_row0_col6 {\n",
       "  background-color: #dddcdc;\n",
       "  color: #000000;\n",
       "}\n",
       "#T_253c5_row0_col7 {\n",
       "  background-color: #9bbcff;\n",
       "  color: #000000;\n",
       "}\n",
       "#T_253c5_row1_col0, #T_253c5_row2_col5, #T_253c5_row3_col5 {\n",
       "  background-color: #b3cdfb;\n",
       "  color: #000000;\n",
       "}\n",
       "#T_253c5_row1_col2, #T_253c5_row2_col1 {\n",
       "  background-color: #c83836;\n",
       "  color: #f1f1f1;\n",
       "}\n",
       "#T_253c5_row1_col3 {\n",
       "  background-color: #dfdbd9;\n",
       "  color: #000000;\n",
       "}\n",
       "#T_253c5_row1_col4, #T_253c5_row1_col6 {\n",
       "  background-color: #bed2f6;\n",
       "  color: #000000;\n",
       "}\n",
       "#T_253c5_row1_col5 {\n",
       "  background-color: #bfd3f6;\n",
       "  color: #000000;\n",
       "}\n",
       "#T_253c5_row1_col7, #T_253c5_row2_col7 {\n",
       "  background-color: #85a8fc;\n",
       "  color: #f1f1f1;\n",
       "}\n",
       "#T_253c5_row2_col0, #T_253c5_row7_col0 {\n",
       "  background-color: #bad0f8;\n",
       "  color: #000000;\n",
       "}\n",
       "#T_253c5_row2_col3 {\n",
       "  background-color: #dbdcde;\n",
       "  color: #000000;\n",
       "}\n",
       "#T_253c5_row2_col4 {\n",
       "  background-color: #6485ec;\n",
       "  color: #f1f1f1;\n",
       "}\n",
       "#T_253c5_row2_col6 {\n",
       "  background-color: #c3d5f4;\n",
       "  color: #000000;\n",
       "}\n",
       "#T_253c5_row3_col0 {\n",
       "  background-color: #81a4fb;\n",
       "  color: #f1f1f1;\n",
       "}\n",
       "#T_253c5_row3_col2 {\n",
       "  background-color: #aec9fc;\n",
       "  color: #000000;\n",
       "}\n",
       "#T_253c5_row3_col4 {\n",
       "  background-color: #5673e0;\n",
       "  color: #f1f1f1;\n",
       "}\n",
       "#T_253c5_row3_col6, #T_253c5_row4_col6 {\n",
       "  background-color: #b7cff9;\n",
       "  color: #000000;\n",
       "}\n",
       "#T_253c5_row3_col7, #T_253c5_row5_col0, #T_253c5_row5_col4, #T_253c5_row5_col6, #T_253c5_row6_col5, #T_253c5_row7_col1, #T_253c5_row7_col2, #T_253c5_row7_col3 {\n",
       "  background-color: #3b4cc0;\n",
       "  color: #f1f1f1;\n",
       "}\n",
       "#T_253c5_row4_col0 {\n",
       "  background-color: #ebd3c6;\n",
       "  color: #000000;\n",
       "}\n",
       "#T_253c5_row4_col2 {\n",
       "  background-color: #5977e3;\n",
       "  color: #f1f1f1;\n",
       "}\n",
       "#T_253c5_row4_col3 {\n",
       "  background-color: #94b6ff;\n",
       "  color: #000000;\n",
       "}\n",
       "#T_253c5_row4_col5 {\n",
       "  background-color: #a9c6fd;\n",
       "  color: #000000;\n",
       "}\n",
       "#T_253c5_row4_col7 {\n",
       "  background-color: #88abfd;\n",
       "  color: #000000;\n",
       "}\n",
       "#T_253c5_row5_col1 {\n",
       "  background-color: #506bda;\n",
       "  color: #f1f1f1;\n",
       "}\n",
       "#T_253c5_row5_col2 {\n",
       "  background-color: #3d50c3;\n",
       "  color: #f1f1f1;\n",
       "}\n",
       "#T_253c5_row5_col3 {\n",
       "  background-color: #89acfd;\n",
       "  color: #000000;\n",
       "}\n",
       "#T_253c5_row5_col7 {\n",
       "  background-color: #7093f3;\n",
       "  color: #f1f1f1;\n",
       "}\n",
       "#T_253c5_row6_col0 {\n",
       "  background-color: #d7dce3;\n",
       "  color: #000000;\n",
       "}\n",
       "#T_253c5_row6_col1, #T_253c5_row6_col4 {\n",
       "  background-color: #4e68d8;\n",
       "  color: #f1f1f1;\n",
       "}\n",
       "#T_253c5_row6_col3 {\n",
       "  background-color: #8caffe;\n",
       "  color: #000000;\n",
       "}\n",
       "#T_253c5_row6_col7 {\n",
       "  background-color: #9abbff;\n",
       "  color: #000000;\n",
       "}\n",
       "#T_253c5_row7_col4 {\n",
       "  background-color: #4961d2;\n",
       "  color: #f1f1f1;\n",
       "}\n",
       "#T_253c5_row7_col5 {\n",
       "  background-color: #9fbfff;\n",
       "  color: #000000;\n",
       "}\n",
       "#T_253c5_row7_col6 {\n",
       "  background-color: #c1d4f4;\n",
       "  color: #000000;\n",
       "}\n",
       "</style>\n",
       "<table id=\"T_253c5\">\n",
       "  <thead>\n",
       "    <tr>\n",
       "      <th class=\"blank level0\" >&nbsp;</th>\n",
       "      <th id=\"T_253c5_level0_col0\" class=\"col_heading level0 col0\" >int_rate</th>\n",
       "      <th id=\"T_253c5_level0_col1\" class=\"col_heading level0 col1\" >loan_amnt</th>\n",
       "      <th id=\"T_253c5_level0_col2\" class=\"col_heading level0 col2\" >installment</th>\n",
       "      <th id=\"T_253c5_level0_col3\" class=\"col_heading level0 col3\" >log_annual_inc</th>\n",
       "      <th id=\"T_253c5_level0_col4\" class=\"col_heading level0 col4\" >duration</th>\n",
       "      <th id=\"T_253c5_level0_col5\" class=\"col_heading level0 col5\" >fico_range_low</th>\n",
       "      <th id=\"T_253c5_level0_col6\" class=\"col_heading level0 col6\" >revol_util</th>\n",
       "      <th id=\"T_253c5_level0_col7\" class=\"col_heading level0 col7\" >dti</th>\n",
       "    </tr>\n",
       "  </thead>\n",
       "  <tbody>\n",
       "    <tr>\n",
       "      <th id=\"T_253c5_level0_row0\" class=\"row_heading level0 row0\" >int_rate</th>\n",
       "      <td id=\"T_253c5_row0_col0\" class=\"data row0 col0\" >1.000000</td>\n",
       "      <td id=\"T_253c5_row0_col1\" class=\"data row0 col1\" >0.098393</td>\n",
       "      <td id=\"T_253c5_row0_col2\" class=\"data row0 col2\" >0.124241</td>\n",
       "      <td id=\"T_253c5_row0_col3\" class=\"data row0 col3\" >-0.107833</td>\n",
       "      <td id=\"T_253c5_row0_col4\" class=\"data row0 col4\" >0.375283</td>\n",
       "      <td id=\"T_253c5_row0_col5\" class=\"data row0 col5\" >-0.415808</td>\n",
       "      <td id=\"T_253c5_row0_col6\" class=\"data row0 col6\" >0.263990</td>\n",
       "      <td id=\"T_253c5_row0_col7\" class=\"data row0 col7\" >0.121790</td>\n",
       "    </tr>\n",
       "    <tr>\n",
       "      <th id=\"T_253c5_level0_row1\" class=\"row_heading level0 row1\" >loan_amnt</th>\n",
       "      <td id=\"T_253c5_row1_col0\" class=\"data row1 col0\" >0.098393</td>\n",
       "      <td id=\"T_253c5_row1_col1\" class=\"data row1 col1\" >1.000000</td>\n",
       "      <td id=\"T_253c5_row1_col2\" class=\"data row1 col2\" >0.945351</td>\n",
       "      <td id=\"T_253c5_row1_col3\" class=\"data row1 col3\" >0.395225</td>\n",
       "      <td id=\"T_253c5_row1_col4\" class=\"data row1 col4\" >0.395852</td>\n",
       "      <td id=\"T_253c5_row1_col5\" class=\"data row1 col5\" >0.110605</td>\n",
       "      <td id=\"T_253c5_row1_col6\" class=\"data row1 col6\" >0.104963</td>\n",
       "      <td id=\"T_253c5_row1_col7\" class=\"data row1 col7\" >0.042877</td>\n",
       "    </tr>\n",
       "    <tr>\n",
       "      <th id=\"T_253c5_level0_row2\" class=\"row_heading level0 row2\" >installment</th>\n",
       "      <td id=\"T_253c5_row2_col0\" class=\"data row2 col0\" >0.124241</td>\n",
       "      <td id=\"T_253c5_row2_col1\" class=\"data row2 col1\" >0.945351</td>\n",
       "      <td id=\"T_253c5_row2_col2\" class=\"data row2 col2\" >1.000000</td>\n",
       "      <td id=\"T_253c5_row2_col3\" class=\"data row2 col3\" >0.376131</td>\n",
       "      <td id=\"T_253c5_row2_col4\" class=\"data row2 col4\" >0.141211</td>\n",
       "      <td id=\"T_253c5_row2_col5\" class=\"data row2 col5\" >0.054452</td>\n",
       "      <td id=\"T_253c5_row2_col6\" class=\"data row2 col6\" >0.125901</td>\n",
       "      <td id=\"T_253c5_row2_col7\" class=\"data row2 col7\" >0.044725</td>\n",
       "    </tr>\n",
       "    <tr>\n",
       "      <th id=\"T_253c5_level0_row3\" class=\"row_heading level0 row3\" >log_annual_inc</th>\n",
       "      <td id=\"T_253c5_row3_col0\" class=\"data row3 col0\" >-0.107833</td>\n",
       "      <td id=\"T_253c5_row3_col1\" class=\"data row3 col1\" >0.395225</td>\n",
       "      <td id=\"T_253c5_row3_col2\" class=\"data row3 col2\" >0.376131</td>\n",
       "      <td id=\"T_253c5_row3_col3\" class=\"data row3 col3\" >1.000000</td>\n",
       "      <td id=\"T_253c5_row3_col4\" class=\"data row3 col4\" >0.100590</td>\n",
       "      <td id=\"T_253c5_row3_col5\" class=\"data row3 col5\" >0.058930</td>\n",
       "      <td id=\"T_253c5_row3_col6\" class=\"data row3 col6\" >0.071495</td>\n",
       "      <td id=\"T_253c5_row3_col7\" class=\"data row3 col7\" >-0.237856</td>\n",
       "    </tr>\n",
       "    <tr>\n",
       "      <th id=\"T_253c5_level0_row4\" class=\"row_heading level0 row4\" >duration</th>\n",
       "      <td id=\"T_253c5_row4_col0\" class=\"data row4 col0\" >0.375283</td>\n",
       "      <td id=\"T_253c5_row4_col1\" class=\"data row4 col1\" >0.395852</td>\n",
       "      <td id=\"T_253c5_row4_col2\" class=\"data row4 col2\" >0.141211</td>\n",
       "      <td id=\"T_253c5_row4_col3\" class=\"data row4 col3\" >0.100590</td>\n",
       "      <td id=\"T_253c5_row4_col4\" class=\"data row4 col4\" >1.000000</td>\n",
       "      <td id=\"T_253c5_row4_col5\" class=\"data row4 col5\" >0.007665</td>\n",
       "      <td id=\"T_253c5_row4_col6\" class=\"data row4 col6\" >0.071969</td>\n",
       "      <td id=\"T_253c5_row4_col7\" class=\"data row4 col7\" >0.055733</td>\n",
       "    </tr>\n",
       "    <tr>\n",
       "      <th id=\"T_253c5_level0_row5\" class=\"row_heading level0 row5\" >fico_range_low</th>\n",
       "      <td id=\"T_253c5_row5_col0\" class=\"data row5 col0\" >-0.415808</td>\n",
       "      <td id=\"T_253c5_row5_col1\" class=\"data row5 col1\" >0.110605</td>\n",
       "      <td id=\"T_253c5_row5_col2\" class=\"data row5 col2\" >0.054452</td>\n",
       "      <td id=\"T_253c5_row5_col3\" class=\"data row5 col3\" >0.058930</td>\n",
       "      <td id=\"T_253c5_row5_col4\" class=\"data row5 col4\" >0.007665</td>\n",
       "      <td id=\"T_253c5_row5_col5\" class=\"data row5 col5\" >1.000000</td>\n",
       "      <td id=\"T_253c5_row5_col6\" class=\"data row5 col6\" >-0.477472</td>\n",
       "      <td id=\"T_253c5_row5_col7\" class=\"data row5 col7\" >-0.027856</td>\n",
       "    </tr>\n",
       "    <tr>\n",
       "      <th id=\"T_253c5_level0_row6\" class=\"row_heading level0 row6\" >revol_util</th>\n",
       "      <td id=\"T_253c5_row6_col0\" class=\"data row6 col0\" >0.263990</td>\n",
       "      <td id=\"T_253c5_row6_col1\" class=\"data row6 col1\" >0.104963</td>\n",
       "      <td id=\"T_253c5_row6_col2\" class=\"data row6 col2\" >0.125901</td>\n",
       "      <td id=\"T_253c5_row6_col3\" class=\"data row6 col3\" >0.071495</td>\n",
       "      <td id=\"T_253c5_row6_col4\" class=\"data row6 col4\" >0.071969</td>\n",
       "      <td id=\"T_253c5_row6_col5\" class=\"data row6 col5\" >-0.477472</td>\n",
       "      <td id=\"T_253c5_row6_col6\" class=\"data row6 col6\" >1.000000</td>\n",
       "      <td id=\"T_253c5_row6_col7\" class=\"data row6 col7\" >0.117155</td>\n",
       "    </tr>\n",
       "    <tr>\n",
       "      <th id=\"T_253c5_level0_row7\" class=\"row_heading level0 row7\" >dti</th>\n",
       "      <td id=\"T_253c5_row7_col0\" class=\"data row7 col0\" >0.121790</td>\n",
       "      <td id=\"T_253c5_row7_col1\" class=\"data row7 col1\" >0.042877</td>\n",
       "      <td id=\"T_253c5_row7_col2\" class=\"data row7 col2\" >0.044725</td>\n",
       "      <td id=\"T_253c5_row7_col3\" class=\"data row7 col3\" >-0.237856</td>\n",
       "      <td id=\"T_253c5_row7_col4\" class=\"data row7 col4\" >0.055733</td>\n",
       "      <td id=\"T_253c5_row7_col5\" class=\"data row7 col5\" >-0.027856</td>\n",
       "      <td id=\"T_253c5_row7_col6\" class=\"data row7 col6\" >0.117155</td>\n",
       "      <td id=\"T_253c5_row7_col7\" class=\"data row7 col7\" >1.000000</td>\n",
       "    </tr>\n",
       "  </tbody>\n",
       "</table>\n"
      ],
      "text/plain": [
       "<pandas.io.formats.style.Styler at 0x7fc03de98070>"
      ]
     },
     "execution_count": 13,
     "metadata": {},
     "output_type": "execute_result"
    }
   ],
   "source": [
    "cols = ['int_rate', 'loan_amnt', 'installment', 'log_annual_inc', 'duration', 'fico_range_low', 'revol_util', 'dti']\n",
    "corr = ld[cols].corr()\n",
    "corr.style.background_gradient(cmap='coolwarm')\n",
    "\n",
    "# ld[cols].corr() # <--- use this if you just want the table in non-graphical format"
   ]
  },
  {
   "cell_type": "markdown",
   "metadata": {},
   "source": [
    "Of these values, interest rate has the strongest correlations with duration and FICO score. The correlation between loan amount\n",
    "and installment size is quite high, so we should drop one of these from our subsequent analysis (highly correlated variables can \n",
    "cause issues with linear regression).\n",
    "\n",
    "Create a list of the variables to use for the prediction of interest rate:"
   ]
  },
  {
   "cell_type": "code",
   "execution_count": 14,
   "metadata": {},
   "outputs": [],
   "source": [
    "pred_vars = ['loan_amnt', 'log_annual_inc', 'fico_range_low', 'revol_util', 'dti', 'duration']"
   ]
  },
  {
   "cell_type": "markdown",
   "metadata": {},
   "source": [
    "### Drop rows with missing values\n",
    "\n",
    "There are some rows in this dataframe that are missing values for at least one of our predictor columns.\n",
    "We will drop these from the dataframe before proceeding to avoid downstream errors."
   ]
  },
  {
   "cell_type": "code",
   "execution_count": 15,
   "metadata": {},
   "outputs": [
    {
     "name": "stdout",
     "output_type": "stream",
     "text": [
      "before dropping rows with missing data 100000\n",
      "after dropping rows with missing data 99822\n"
     ]
    }
   ],
   "source": [
    "print(\"before dropping rows with missing data\", len(ld))\n",
    "ld = ld.dropna(subset=pred_vars)\n",
    "print(\"after dropping rows with missing data\", len(ld))"
   ]
  },
  {
   "cell_type": "markdown",
   "metadata": {},
   "source": [
    "We now have a dataset that is cleaned and ready for analysis.\n",
    "\n",
    "# Training and testing sets\n",
    "With this dataset, the observations are ordered from newest to oldest. We can \n",
    "simulate a real-world situation by splitting our data into train and test subsets\n",
    "by their position in the series. "
   ]
  },
  {
   "cell_type": "code",
   "execution_count": 16,
   "metadata": {},
   "outputs": [],
   "source": [
    "from sklearn.model_selection import train_test_split\n",
    "\n",
    "# use index-based sampling since we have time series data\n",
    "train, test = train_test_split(ld, test_size=0.25, shuffle=False)"
   ]
  },
  {
   "cell_type": "markdown",
   "metadata": {},
   "source": [
    "Now, view the start and end dates for the two samples:"
   ]
  },
  {
   "cell_type": "code",
   "execution_count": 17,
   "metadata": {},
   "outputs": [
    {
     "name": "stdout",
     "output_type": "stream",
     "text": [
      "training data starts\n",
      " 4     Jul-2007\n",
      "6     Jul-2007\n",
      "11    Aug-2007\n",
      "13    Sep-2007\n",
      "16    Sep-2007\n",
      "Name: issue_d, dtype: object\n",
      "training data ends\n",
      " 187238    Nov-2017\n",
      "187242    Nov-2017\n",
      "187243    Nov-2017\n",
      "187244    Nov-2017\n",
      "187246    Nov-2017\n",
      "Name: issue_d, dtype: object\n",
      "testing data starts\n",
      " 187248    Jan-2018\n",
      "187252    Nov-2017\n",
      "187253    Nov-2017\n",
      "187254    Nov-2017\n",
      "187255    Nov-2017\n",
      "Name: issue_d, dtype: object\n",
      "testing data ends\n",
      " 249987    Dec-2018\n",
      "249989    Dec-2018\n",
      "249991    Dec-2018\n",
      "249993    Dec-2018\n",
      "249994    Dec-2018\n",
      "Name: issue_d, dtype: object\n"
     ]
    }
   ],
   "source": [
    "# earliest and latest dates in train\n",
    "print(\"training data starts\\n\", train['issue_d'].head())\n",
    "print(\"training data ends\\n\", train['issue_d'].tail())\n",
    "# earliest and latest in test\n",
    "print(\"testing data starts\\n\", test['issue_d'].head())\n",
    "print(\"testing data ends\\n\", test['issue_d'].tail())"
   ]
  },
  {
   "cell_type": "markdown",
   "metadata": {},
   "source": [
    "# Simple Linear Regression\n",
    "\n",
    "The syntax for creating models using the `statsmodels` package\n",
    "is similar to that of `sklearn` (`sklearn` has linear regression\n",
    "functions, but it is somewhat barebones in it's model summaries\n",
    "compared to `statsmodels`). The documentation for \n",
    "ordinary least squares (OLS) regression using\n",
    "`statsmodels` is \n",
    "[here](https://www.statsmodels.org/devel/generated/statsmodels.regression.linear_model.OLS.html#statsmodels.regression.linear_model.OLS).\n",
    "\n",
    "We covered this last week. It is included here as a baseline. "
   ]
  },
  {
   "cell_type": "code",
   "execution_count": 18,
   "metadata": {},
   "outputs": [
    {
     "data": {
      "text/html": [
       "<table class=\"simpletable\">\n",
       "<caption>OLS Regression Results</caption>\n",
       "<tr>\n",
       "  <th>Dep. Variable:</th>        <td>int_rate</td>     <th>  R-squared (uncentered):</th>       <td>   0.910</td>  \n",
       "</tr>\n",
       "<tr>\n",
       "  <th>Model:</th>                   <td>OLS</td>       <th>  Adj. R-squared (uncentered):</th>  <td>   0.910</td>  \n",
       "</tr>\n",
       "<tr>\n",
       "  <th>Method:</th>             <td>Least Squares</td>  <th>  F-statistic:       </th>           <td>1.255e+05</td> \n",
       "</tr>\n",
       "<tr>\n",
       "  <th>Date:</th>             <td>Sun, 13 Nov 2022</td> <th>  Prob (F-statistic):</th>            <td>  0.00</td>   \n",
       "</tr>\n",
       "<tr>\n",
       "  <th>Time:</th>                 <td>01:29:29</td>     <th>  Log-Likelihood:    </th>          <td>-2.1408e+05</td>\n",
       "</tr>\n",
       "<tr>\n",
       "  <th>No. Observations:</th>      <td> 74866</td>      <th>  AIC:               </th>           <td>4.282e+05</td> \n",
       "</tr>\n",
       "<tr>\n",
       "  <th>Df Residuals:</th>          <td> 74860</td>      <th>  BIC:               </th>           <td>4.282e+05</td> \n",
       "</tr>\n",
       "<tr>\n",
       "  <th>Df Model:</th>              <td>     6</td>      <th>                     </th>               <td> </td>     \n",
       "</tr>\n",
       "<tr>\n",
       "  <th>Covariance Type:</th>      <td>nonrobust</td>    <th>                     </th>               <td> </td>     \n",
       "</tr>\n",
       "</table>\n",
       "<table class=\"simpletable\">\n",
       "<tr>\n",
       "         <td></td>           <th>coef</th>     <th>std err</th>      <th>t</th>      <th>P>|t|</th>  <th>[0.025</th>    <th>0.975]</th>  \n",
       "</tr>\n",
       "<tr>\n",
       "  <th>loan_amnt</th>      <td>-4.934e-05</td> <td> 2.02e-06</td> <td>  -24.488</td> <td> 0.000</td> <td>-5.33e-05</td> <td>-4.54e-05</td>\n",
       "</tr>\n",
       "<tr>\n",
       "  <th>log_annual_inc</th> <td>    0.9331</td> <td>    0.026</td> <td>   35.472</td> <td> 0.000</td> <td>    0.882</td> <td>    0.985</td>\n",
       "</tr>\n",
       "<tr>\n",
       "  <th>fico_range_low</th> <td>   -0.0107</td> <td>    0.000</td> <td>  -27.014</td> <td> 0.000</td> <td>   -0.012</td> <td>   -0.010</td>\n",
       "</tr>\n",
       "<tr>\n",
       "  <th>revol_util</th>     <td>    0.0358</td> <td>    0.001</td> <td>   51.614</td> <td> 0.000</td> <td>    0.034</td> <td>    0.037</td>\n",
       "</tr>\n",
       "<tr>\n",
       "  <th>dti</th>            <td>    0.0472</td> <td>    0.001</td> <td>   36.338</td> <td> 0.000</td> <td>    0.045</td> <td>    0.050</td>\n",
       "</tr>\n",
       "<tr>\n",
       "  <th>duration</th>       <td>    0.1930</td> <td>    0.002</td> <td>  125.431</td> <td> 0.000</td> <td>    0.190</td> <td>    0.196</td>\n",
       "</tr>\n",
       "</table>\n",
       "<table class=\"simpletable\">\n",
       "<tr>\n",
       "  <th>Omnibus:</th>       <td>8306.370</td> <th>  Durbin-Watson:     </th> <td>   1.910</td> \n",
       "</tr>\n",
       "<tr>\n",
       "  <th>Prob(Omnibus):</th>  <td> 0.000</td>  <th>  Jarque-Bera (JB):  </th> <td>13841.537</td>\n",
       "</tr>\n",
       "<tr>\n",
       "  <th>Skew:</th>           <td> 0.781</td>  <th>  Prob(JB):          </th> <td>    0.00</td> \n",
       "</tr>\n",
       "<tr>\n",
       "  <th>Kurtosis:</th>       <td> 4.413</td>  <th>  Cond. No.          </th> <td>2.93e+04</td> \n",
       "</tr>\n",
       "</table><br/><br/>Notes:<br/>[1] R² is computed without centering (uncentered) since the model does not contain a constant.<br/>[2] Standard Errors assume that the covariance matrix of the errors is correctly specified.<br/>[3] The condition number is large, 2.93e+04. This might indicate that there are<br/>strong multicollinearity or other numerical problems."
      ],
      "text/plain": [
       "<class 'statsmodels.iolib.summary.Summary'>\n",
       "\"\"\"\n",
       "                                 OLS Regression Results                                \n",
       "=======================================================================================\n",
       "Dep. Variable:               int_rate   R-squared (uncentered):                   0.910\n",
       "Model:                            OLS   Adj. R-squared (uncentered):              0.910\n",
       "Method:                 Least Squares   F-statistic:                          1.255e+05\n",
       "Date:                Sun, 13 Nov 2022   Prob (F-statistic):                        0.00\n",
       "Time:                        01:29:29   Log-Likelihood:                     -2.1408e+05\n",
       "No. Observations:               74866   AIC:                                  4.282e+05\n",
       "Df Residuals:                   74860   BIC:                                  4.282e+05\n",
       "Df Model:                           6                                                  \n",
       "Covariance Type:            nonrobust                                                  \n",
       "==================================================================================\n",
       "                     coef    std err          t      P>|t|      [0.025      0.975]\n",
       "----------------------------------------------------------------------------------\n",
       "loan_amnt      -4.934e-05   2.02e-06    -24.488      0.000   -5.33e-05   -4.54e-05\n",
       "log_annual_inc     0.9331      0.026     35.472      0.000       0.882       0.985\n",
       "fico_range_low    -0.0107      0.000    -27.014      0.000      -0.012      -0.010\n",
       "revol_util         0.0358      0.001     51.614      0.000       0.034       0.037\n",
       "dti                0.0472      0.001     36.338      0.000       0.045       0.050\n",
       "duration           0.1930      0.002    125.431      0.000       0.190       0.196\n",
       "==============================================================================\n",
       "Omnibus:                     8306.370   Durbin-Watson:                   1.910\n",
       "Prob(Omnibus):                  0.000   Jarque-Bera (JB):            13841.537\n",
       "Skew:                           0.781   Prob(JB):                         0.00\n",
       "Kurtosis:                       4.413   Cond. No.                     2.93e+04\n",
       "==============================================================================\n",
       "\n",
       "Notes:\n",
       "[1] R² is computed without centering (uncentered) since the model does not contain a constant.\n",
       "[2] Standard Errors assume that the covariance matrix of the errors is correctly specified.\n",
       "[3] The condition number is large, 2.93e+04. This might indicate that there are\n",
       "strong multicollinearity or other numerical problems.\n",
       "\"\"\""
      ]
     },
     "execution_count": 18,
     "metadata": {},
     "output_type": "execute_result"
    }
   ],
   "source": [
    "reg_multi = sm.OLS(train['int_rate'], train[pred_vars], hasconst=False).fit()\n",
    "reg_multi.summary()"
   ]
  },
  {
   "cell_type": "markdown",
   "metadata": {},
   "source": [
    "Now, add additional predictors from our list from earlier. "
   ]
  },
  {
   "cell_type": "markdown",
   "metadata": {},
   "source": [
    "# Machine Learning Models\n",
    "There are many machine learning algorithms that have been developed for continuous prediction. \n",
    "Working with them is very similar to working with regressions. There are model parameters\n",
    "that one can adjust, and the steps to fit and evaluate models are similar. The evaluation\n",
    "for these models will be RMSE on the test data set.\n",
    "\n",
    "## Random Forest Regression\n",
    "We can use random forests to predict continuous outcomes. "
   ]
  },
  {
   "cell_type": "code",
   "execution_count": 19,
   "metadata": {},
   "outputs": [
    {
     "data": {
      "text/plain": [
       "RandomForestRegressor()"
      ]
     },
     "execution_count": 19,
     "metadata": {},
     "output_type": "execute_result"
    }
   ],
   "source": [
    "from sklearn.ensemble import RandomForestRegressor\n",
    "\n",
    "rf_reg = RandomForestRegressor()\n",
    "\n",
    "rf_reg.fit(train[pred_vars], train['int_rate'])"
   ]
  },
  {
   "cell_type": "markdown",
   "metadata": {},
   "source": [
    "## Support Vector Regression\n",
    "This is a support vector machine designed to make continuous predictions. Trying `SVR` is very slow for a sample of this size, but LinearSVR uses a different backend and is much faster.\n"
   ]
  },
  {
   "cell_type": "code",
   "execution_count": 20,
   "metadata": {},
   "outputs": [
    {
     "name": "stderr",
     "output_type": "stream",
     "text": [
      "/Users/samueldemero/opt/anaconda3/lib/python3.9/site-packages/sklearn/svm/_base.py:1206: ConvergenceWarning: Liblinear failed to converge, increase the number of iterations.\n",
      "  warnings.warn(\n"
     ]
    },
    {
     "data": {
      "text/plain": [
       "LinearSVR()"
      ]
     },
     "execution_count": 20,
     "metadata": {},
     "output_type": "execute_result"
    }
   ],
   "source": [
    "from sklearn.svm import LinearSVR\n",
    "\n",
    "svr_reg = LinearSVR()\n",
    "\n",
    "svr_reg.fit(train[pred_vars], train['int_rate'])"
   ]
  },
  {
   "cell_type": "markdown",
   "metadata": {},
   "source": [
    "## Neural Network Regression\n"
   ]
  },
  {
   "cell_type": "code",
   "execution_count": 21,
   "metadata": {},
   "outputs": [
    {
     "data": {
      "text/plain": [
       "MLPRegressor()"
      ]
     },
     "execution_count": 21,
     "metadata": {},
     "output_type": "execute_result"
    }
   ],
   "source": [
    "from sklearn.neural_network import MLPRegressor\n",
    "\n",
    "mlp_reg = MLPRegressor()\n",
    "\n",
    "mlp_reg.fit(train[pred_vars], train['int_rate'])"
   ]
  },
  {
   "cell_type": "markdown",
   "metadata": {},
   "source": [
    "# Evaluation\n",
    "\n",
    "To evaluate our models, we will create a for loop to run through\n",
    "each of the models and generate predictions\n",
    "and evaluation of each model using RMSE.\n",
    "\n",
    "This looping process is similar to the evaluation loops we made for classification.\n",
    "If you were interested in a different statistic than RMSE, you could \n",
    "add that here.\n"
   ]
  },
  {
   "cell_type": "code",
   "execution_count": 22,
   "metadata": {},
   "outputs": [
    {
     "name": "stdout",
     "output_type": "stream",
     "text": [
      "<statsmodels.regression.linear_model.RegressionResultsWrapper object at 0x7fc040613520> RMSE: 4.573858716258639\n",
      "RandomForestRegressor() RMSE: 4.273332925898637\n",
      "LinearSVR() RMSE: 4.737626892361386\n",
      "MLPRegressor() RMSE: 4.877620759161654\n"
     ]
    }
   ],
   "source": [
    "models = [reg_multi, rf_reg, svr_reg, mlp_reg]\n",
    "\n",
    "for reg in models:\n",
    "    \n",
    "    reg_pred = reg.predict(test[pred_vars])\n",
    "\n",
    "    reg_rmse = metrics.mean_squared_error(test['int_rate'], reg_pred, squared=False)\n",
    "    print(reg, \"RMSE:\", reg_rmse)"
   ]
  },
  {
   "cell_type": "markdown",
   "metadata": {},
   "source": [
    "# Summary\n",
    "We built machine learning regression models in an attempt to predict interest rates for loans from Lending Club\n",
    "using data about the loan request and borrower information. First, we cleaned and transformed the\n",
    "data, then viewed the correlations between a subset of variables. Then, we built models on\n",
    "on a training set of data. Lastly, we compared\n",
    "the models on a holdout set of data using RMSE.\n",
    "\n",
    "# Exercises\n",
    "1. Add another algorithm for regression \n",
    "   [(See this list)](https://scikit-learn.org/stable/supervised_learning.html).\n",
    "   Compare the models again. Which performed best?\n",
    "\n",
    "   rf_reg performed best\n",
    "\n",
    "   \n",
    "2. In last week's lab, you were asked to add additional variables to\n",
    "   try improving the predictions. Use those variables again on\n",
    "   each of these models and evaluate. How does the RMSE change \n",
    "   with the additional predictors? Which model was best?\n",
    "\n",
    "   Using the models i used last week, the random forest is still the best and rsme worsens.\n",
    "\n",
    "\n",
    "   "
   ]
  },
  {
   "cell_type": "code",
   "execution_count": 27,
   "metadata": {},
   "outputs": [
    {
     "name": "stdout",
     "output_type": "stream",
     "text": [
      "<statsmodels.regression.linear_model.RegressionResultsWrapper object at 0x7fc040613520> RMSE: 4.573858716258639\n",
      "rf_reg difference with pls2  0.011581585625195512\n",
      "RandomForestRegressor() RMSE: 4.273332925898637\n",
      "rf_reg difference with pls2  0.011581585625195512\n",
      "LinearSVR() RMSE: 4.737626892361386\n",
      "rf_reg difference with pls2  0.011581585625195512\n",
      "MLPRegressor() RMSE: 4.877620759161654\n",
      "rf_reg difference with pls2  0.011581585625195512\n",
      "PLSRegression(max_iter=200, n_components=5) RMSE: 4.244807449269631\n",
      "rf_reg difference with pls2  0.011581585625195512\n"
     ]
    }
   ],
   "source": [
    "from sklearn.cross_decomposition import PLSRegression\n",
    "\n",
    "pls2 = PLSRegression(n_components=5, max_iter=200, scale=True, copy=True)\n",
    "pls2.fit(train[pred_vars], train['int_rate'])\n",
    "models = [reg_multi, rf_reg, svr_reg, mlp_reg, pls2]\n",
    "\n",
    "for reg in models:\n",
    "    \n",
    "    reg_pred = reg.predict(test[pred_vars])\n",
    "\n",
    "    reg_rmse = metrics.mean_squared_error(test['int_rate'], reg_pred, squared=False)\n",
    "    "
   ]
  }
 ],
 "metadata": {
  "kernelspec": {
   "display_name": "Python 3.9.12 ('base')",
   "language": "python",
   "name": "python3"
  },
  "language_info": {
   "codemirror_mode": {
    "name": "ipython",
    "version": 3
   },
   "file_extension": ".py",
   "mimetype": "text/x-python",
   "name": "python",
   "nbconvert_exporter": "python",
   "pygments_lexer": "ipython3",
   "version": "3.9.12"
  },
  "vscode": {
   "interpreter": {
    "hash": "34e99f8ed17b83ae722441374bc973f4e0272a7c9f4043a46aac7a68dbd62340"
   }
  }
 },
 "nbformat": 4,
 "nbformat_minor": 4
}
