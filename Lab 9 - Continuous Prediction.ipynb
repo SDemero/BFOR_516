{
 "cells": [
  {
   "cell_type": "markdown",
   "metadata": {},
   "source": [
    "# Linear Prediction\n",
    "In this lab, we will learn how to use linear prediction methods\n",
    "to estimate continuous outcomes, and to evaluate the \n",
    "quality of competing models. We will explore both \n",
    "the \n",
    "\n",
    "# Predicting Loan Quality\n",
    "\n",
    "One of the most imporant aspects of lending is determining the\n",
    "interest rate to give a customer. Set rates too high, and the\n",
    "customer may choose another lender. Set rates too low, and \n",
    "lender may not earn enough interest to offset defaults and other expenses.\n",
    "\n",
    "The data for this exercise comes from Lending Club, a peer-to-peer lending company.\n",
    "They facilitate loans and allow individuals to make loans or borrow money (you \n",
    "can read more about them on \n",
    "[Wikipedia](https://en.wikipedia.org/wiki/Lending_Club).\n",
    "\n",
    "We can get historical data from the\n",
    "[Lending Club data page](https://www.lendingclub.com/info/download-data.action).\n",
    "\n",
    "Download the loan data that is on Blackboard. This is not the newest data, \n",
    "but it has the outcomes of many loans that have reached maturity. We can use the first dataset\n",
    "to train and the second to test. You should also download the data dictionary. "
   ]
  },
  {
   "cell_type": "code",
   "execution_count": 2,
   "metadata": {},
   "outputs": [],
   "source": [
    "import pandas as pd\n",
    "import numpy as np\n",
    "import statsmodels.api as sm\n",
    "from sklearn import metrics"
   ]
  },
  {
   "cell_type": "markdown",
   "metadata": {},
   "source": [
    "## Preprocessing\n",
    "\n",
    "First, let's view some of the columns in dataframe."
   ]
  },
  {
   "cell_type": "code",
   "execution_count": 4,
   "metadata": {},
   "outputs": [
    {
     "name": "stderr",
     "output_type": "stream",
     "text": [
      "/var/folders/ll/5fnyw07s0p74sdfnrqqwwhgc0000gn/T/ipykernel_67882/177355301.py:1: DtypeWarning: Columns (20,60,119,130,131,132,135,136,137,140,146,147,148) have mixed types. Specify dtype option on import or set low_memory=False.\n",
      "  ld = pd.read_csv('data/lendingclub_2015-2018.csv')\n"
     ]
    },
    {
     "data": {
      "text/html": [
       "<div>\n",
       "<style scoped>\n",
       "    .dataframe tbody tr th:only-of-type {\n",
       "        vertical-align: middle;\n",
       "    }\n",
       "\n",
       "    .dataframe tbody tr th {\n",
       "        vertical-align: top;\n",
       "    }\n",
       "\n",
       "    .dataframe thead th {\n",
       "        text-align: right;\n",
       "    }\n",
       "</style>\n",
       "<table border=\"1\" class=\"dataframe\">\n",
       "  <thead>\n",
       "    <tr style=\"text-align: right;\">\n",
       "      <th></th>\n",
       "      <th>index</th>\n",
       "      <th>id</th>\n",
       "      <th>member_id</th>\n",
       "      <th>loan_amnt</th>\n",
       "      <th>funded_amnt</th>\n",
       "      <th>funded_amnt_inv</th>\n",
       "      <th>term</th>\n",
       "      <th>int_rate</th>\n",
       "      <th>installment</th>\n",
       "      <th>grade</th>\n",
       "      <th>...</th>\n",
       "      <th>hardship_last_payment_amount</th>\n",
       "      <th>disbursement_method</th>\n",
       "      <th>debt_settlement_flag</th>\n",
       "      <th>debt_settlement_flag_date</th>\n",
       "      <th>settlement_status</th>\n",
       "      <th>settlement_date</th>\n",
       "      <th>settlement_amount</th>\n",
       "      <th>settlement_percentage</th>\n",
       "      <th>settlement_term</th>\n",
       "      <th>duration</th>\n",
       "    </tr>\n",
       "  </thead>\n",
       "  <tbody>\n",
       "    <tr>\n",
       "      <th>249990</th>\n",
       "      <td>249991</td>\n",
       "      <td>145635719</td>\n",
       "      <td>NaN</td>\n",
       "      <td>35000.0</td>\n",
       "      <td>35000.0</td>\n",
       "      <td>35000.0</td>\n",
       "      <td>60 months</td>\n",
       "      <td>18.94</td>\n",
       "      <td>906.77</td>\n",
       "      <td>D</td>\n",
       "      <td>...</td>\n",
       "      <td>NaN</td>\n",
       "      <td>Cash</td>\n",
       "      <td>N</td>\n",
       "      <td>NaN</td>\n",
       "      <td>NaN</td>\n",
       "      <td>NaN</td>\n",
       "      <td>NaN</td>\n",
       "      <td>NaN</td>\n",
       "      <td>NaN</td>\n",
       "      <td>60</td>\n",
       "    </tr>\n",
       "    <tr>\n",
       "      <th>249991</th>\n",
       "      <td>249992</td>\n",
       "      <td>145635974</td>\n",
       "      <td>NaN</td>\n",
       "      <td>7500.0</td>\n",
       "      <td>7500.0</td>\n",
       "      <td>7500.0</td>\n",
       "      <td>36 months</td>\n",
       "      <td>10.72</td>\n",
       "      <td>244.55</td>\n",
       "      <td>B</td>\n",
       "      <td>...</td>\n",
       "      <td>NaN</td>\n",
       "      <td>Cash</td>\n",
       "      <td>N</td>\n",
       "      <td>NaN</td>\n",
       "      <td>NaN</td>\n",
       "      <td>NaN</td>\n",
       "      <td>NaN</td>\n",
       "      <td>NaN</td>\n",
       "      <td>NaN</td>\n",
       "      <td>36</td>\n",
       "    </tr>\n",
       "    <tr>\n",
       "      <th>249992</th>\n",
       "      <td>249993</td>\n",
       "      <td>145637006</td>\n",
       "      <td>NaN</td>\n",
       "      <td>30000.0</td>\n",
       "      <td>30000.0</td>\n",
       "      <td>30000.0</td>\n",
       "      <td>60 months</td>\n",
       "      <td>27.27</td>\n",
       "      <td>920.91</td>\n",
       "      <td>E</td>\n",
       "      <td>...</td>\n",
       "      <td>NaN</td>\n",
       "      <td>Cash</td>\n",
       "      <td>N</td>\n",
       "      <td>NaN</td>\n",
       "      <td>NaN</td>\n",
       "      <td>NaN</td>\n",
       "      <td>NaN</td>\n",
       "      <td>NaN</td>\n",
       "      <td>NaN</td>\n",
       "      <td>60</td>\n",
       "    </tr>\n",
       "    <tr>\n",
       "      <th>249993</th>\n",
       "      <td>249994</td>\n",
       "      <td>145641258</td>\n",
       "      <td>NaN</td>\n",
       "      <td>22650.0</td>\n",
       "      <td>22650.0</td>\n",
       "      <td>22650.0</td>\n",
       "      <td>36 months</td>\n",
       "      <td>10.72</td>\n",
       "      <td>738.54</td>\n",
       "      <td>B</td>\n",
       "      <td>...</td>\n",
       "      <td>NaN</td>\n",
       "      <td>Cash</td>\n",
       "      <td>N</td>\n",
       "      <td>NaN</td>\n",
       "      <td>NaN</td>\n",
       "      <td>NaN</td>\n",
       "      <td>NaN</td>\n",
       "      <td>NaN</td>\n",
       "      <td>NaN</td>\n",
       "      <td>36</td>\n",
       "    </tr>\n",
       "    <tr>\n",
       "      <th>249994</th>\n",
       "      <td>249995</td>\n",
       "      <td>145642272</td>\n",
       "      <td>NaN</td>\n",
       "      <td>1000.0</td>\n",
       "      <td>1000.0</td>\n",
       "      <td>1000.0</td>\n",
       "      <td>36 months</td>\n",
       "      <td>18.94</td>\n",
       "      <td>36.63</td>\n",
       "      <td>D</td>\n",
       "      <td>...</td>\n",
       "      <td>NaN</td>\n",
       "      <td>Cash</td>\n",
       "      <td>N</td>\n",
       "      <td>NaN</td>\n",
       "      <td>NaN</td>\n",
       "      <td>NaN</td>\n",
       "      <td>NaN</td>\n",
       "      <td>NaN</td>\n",
       "      <td>NaN</td>\n",
       "      <td>36</td>\n",
       "    </tr>\n",
       "  </tbody>\n",
       "</table>\n",
       "<p>5 rows × 153 columns</p>\n",
       "</div>"
      ],
      "text/plain": [
       "         index         id  member_id  loan_amnt  funded_amnt  funded_amnt_inv  \\\n",
       "249990  249991  145635719        NaN    35000.0      35000.0          35000.0   \n",
       "249991  249992  145635974        NaN     7500.0       7500.0           7500.0   \n",
       "249992  249993  145637006        NaN    30000.0      30000.0          30000.0   \n",
       "249993  249994  145641258        NaN    22650.0      22650.0          22650.0   \n",
       "249994  249995  145642272        NaN     1000.0       1000.0           1000.0   \n",
       "\n",
       "              term  int_rate  installment grade  ...  \\\n",
       "249990   60 months     18.94       906.77     D  ...   \n",
       "249991   36 months     10.72       244.55     B  ...   \n",
       "249992   60 months     27.27       920.91     E  ...   \n",
       "249993   36 months     10.72       738.54     B  ...   \n",
       "249994   36 months     18.94        36.63     D  ...   \n",
       "\n",
       "       hardship_last_payment_amount disbursement_method debt_settlement_flag  \\\n",
       "249990                          NaN                Cash                    N   \n",
       "249991                          NaN                Cash                    N   \n",
       "249992                          NaN                Cash                    N   \n",
       "249993                          NaN                Cash                    N   \n",
       "249994                          NaN                Cash                    N   \n",
       "\n",
       "       debt_settlement_flag_date  settlement_status settlement_date  \\\n",
       "249990                       NaN                NaN             NaN   \n",
       "249991                       NaN                NaN             NaN   \n",
       "249992                       NaN                NaN             NaN   \n",
       "249993                       NaN                NaN             NaN   \n",
       "249994                       NaN                NaN             NaN   \n",
       "\n",
       "       settlement_amount settlement_percentage settlement_term duration  \n",
       "249990               NaN                   NaN             NaN       60  \n",
       "249991               NaN                   NaN             NaN       36  \n",
       "249992               NaN                   NaN             NaN       60  \n",
       "249993               NaN                   NaN             NaN       36  \n",
       "249994               NaN                   NaN             NaN       36  \n",
       "\n",
       "[5 rows x 153 columns]"
      ]
     },
     "metadata": {},
     "output_type": "display_data"
    }
   ],
   "source": [
    "ld = pd.read_csv('data/lendingclub_2015-2018.csv')\n",
    "ld.head()\n",
    "tmp = ld.tail()\n",
    "display(tmp)"
   ]
  },
  {
   "cell_type": "markdown",
   "metadata": {},
   "source": [
    "### Interest Rate\n",
    "Since we are interested in the interest rates that customers receive, let's plot a histogram to see how rates are distributed."
   ]
  },
  {
   "cell_type": "code",
   "execution_count": 5,
   "metadata": {},
   "outputs": [
    {
     "data": {
      "text/plain": [
       "<AxesSubplot:>"
      ]
     },
     "execution_count": 5,
     "metadata": {},
     "output_type": "execute_result"
    },
    {
     "data": {
      "image/png": "[encoded data removed]",
      "text/plain": [
       "<Figure size 432x288 with 1 Axes>"
      ]
     },
     "metadata": {
      "needs_background": "light"
     },
     "output_type": "display_data"
    }
   ],
   "source": [
    "ld['int_rate'].hist()"
   ]
  },
  {
   "cell_type": "markdown",
   "metadata": {},
   "source": [
    "### Loan Duration\n",
    "The loan duration column is formatted as a text string, and must be cleaned up for analysis."
   ]
  },
  {
   "cell_type": "code",
   "execution_count": 6,
   "metadata": {},
   "outputs": [
    {
     "name": "stdout",
     "output_type": "stream",
     "text": [
      "0    [, 36, months]\n",
      "1    [, 36, months]\n",
      "2    [, 36, months]\n",
      "3    [, 36, months]\n",
      "4    [, 36, months]\n",
      "Name: term, dtype: object\n"
     ]
    }
   ],
   "source": [
    "# view unique values\n",
    "ld['term'].unique()\n",
    "\n",
    "# split rows into parts\n",
    "term_split = ld['term'].str.split(' ')\n",
    "\n",
    "# view first five rows\n",
    "print(term_split[:5])"
   ]
  },
  {
   "cell_type": "code",
   "execution_count": 7,
   "metadata": {},
   "outputs": [
    {
     "data": {
      "text/plain": [
       "0    36\n",
       "1    36\n",
       "2    36\n",
       "3    36\n",
       "4    36\n",
       "Name: duration, dtype: object"
      ]
     },
     "metadata": {},
     "output_type": "display_data"
    }
   ],
   "source": [
    "# the str function can retrieve a specific list element for all rows\n",
    "term_split.str[1]\n",
    "ld['duration'] = term_split.str[1]\n",
    "\n",
    "# add this to the dataframe\n",
    "display(ld['duration'].head())\n",
    "# this column is not in integer format. Must fix!"
   ]
  },
  {
   "cell_type": "code",
   "execution_count": 8,
   "metadata": {},
   "outputs": [
    {
     "data": {
      "text/plain": [
       "0    36\n",
       "1    36\n",
       "2    36\n",
       "3    36\n",
       "4    36\n",
       "Name: duration, dtype: int64"
      ]
     },
     "metadata": {},
     "output_type": "display_data"
    }
   ],
   "source": [
    "# convert column to integer\n",
    "ld['duration'] = ld['duration'].apply(int)\n",
    "display(ld['duration'].head())"
   ]
  },
  {
   "cell_type": "markdown",
   "metadata": {},
   "source": [
    "### Rescaling\n",
    "Some of the columns that we will use are on very different scales. For example, loan amount and annual income range from 0 to tens of thousands of dollars,\n",
    "whereas the debt-to-income (`dti`) range is much smaller. This can cause issues when fitting the models.\n",
    "\n",
    "We will transform the income and loan amount variables using a log transformation.\n"
   ]
  },
  {
   "cell_type": "code",
   "execution_count": 9,
   "metadata": {},
   "outputs": [],
   "source": [
    "ld['log_loan_amnt'] = np.log(ld['loan_amnt'])\n",
    "ld['log_annual_inc'] = np.log(ld['annual_inc']+1)"
   ]
  },
  {
   "cell_type": "markdown",
   "metadata": {},
   "source": [
    "### Correlations\n",
    "Let's run some correlations to see how some columns relate to one another"
   ]
  },
  {
   "cell_type": "code",
   "execution_count": 10,
   "metadata": {},
   "outputs": [
    {
     "data": {
      "text/html": [
       "<style type=\"text/css\">\n",
       "#T_59d6b_row0_col0, #T_59d6b_row1_col1, #T_59d6b_row2_col2, #T_59d6b_row3_col3, #T_59d6b_row4_col4, #T_59d6b_row5_col5, #T_59d6b_row6_col6, #T_59d6b_row7_col7 {\n",
       "  background-color: #b40426;\n",
       "  color: #f1f1f1;\n",
       "}\n",
       "#T_59d6b_row0_col1, #T_59d6b_row0_col5 {\n",
       "  background-color: #465ecf;\n",
       "  color: #f1f1f1;\n",
       "}\n",
       "#T_59d6b_row0_col2, #T_59d6b_row6_col2 {\n",
       "  background-color: #5470de;\n",
       "  color: #f1f1f1;\n",
       "}\n",
       "#T_59d6b_row0_col3 {\n",
       "  background-color: #5b7ae5;\n",
       "  color: #f1f1f1;\n",
       "}\n",
       "#T_59d6b_row0_col4, #T_59d6b_row3_col5 {\n",
       "  background-color: #b5cdfa;\n",
       "  color: #000000;\n",
       "}\n",
       "#T_59d6b_row0_col6 {\n",
       "  background-color: #dddcdc;\n",
       "  color: #000000;\n",
       "}\n",
       "#T_59d6b_row0_col7 {\n",
       "  background-color: #9bbcff;\n",
       "  color: #000000;\n",
       "}\n",
       "#T_59d6b_row1_col0 {\n",
       "  background-color: #b1cbfc;\n",
       "  color: #000000;\n",
       "}\n",
       "#T_59d6b_row1_col2, #T_59d6b_row2_col1 {\n",
       "  background-color: #de614d;\n",
       "  color: #f1f1f1;\n",
       "}\n",
       "#T_59d6b_row1_col3 {\n",
       "  background-color: #dcdddd;\n",
       "  color: #000000;\n",
       "}\n",
       "#T_59d6b_row1_col4 {\n",
       "  background-color: #c3d5f4;\n",
       "  color: #000000;\n",
       "}\n",
       "#T_59d6b_row1_col5, #T_59d6b_row2_col0 {\n",
       "  background-color: #bad0f8;\n",
       "  color: #000000;\n",
       "}\n",
       "#T_59d6b_row1_col6 {\n",
       "  background-color: #bfd3f6;\n",
       "  color: #000000;\n",
       "}\n",
       "#T_59d6b_row1_col7, #T_59d6b_row2_col7 {\n",
       "  background-color: #85a8fc;\n",
       "  color: #f1f1f1;\n",
       "}\n",
       "#T_59d6b_row2_col3 {\n",
       "  background-color: #dedcdb;\n",
       "  color: #000000;\n",
       "}\n",
       "#T_59d6b_row2_col4 {\n",
       "  background-color: #6485ec;\n",
       "  color: #f1f1f1;\n",
       "}\n",
       "#T_59d6b_row2_col5, #T_59d6b_row3_col2 {\n",
       "  background-color: #b2ccfb;\n",
       "  color: #000000;\n",
       "}\n",
       "#T_59d6b_row2_col6 {\n",
       "  background-color: #c1d4f4;\n",
       "  color: #000000;\n",
       "}\n",
       "#T_59d6b_row3_col0 {\n",
       "  background-color: #81a4fb;\n",
       "  color: #f1f1f1;\n",
       "}\n",
       "#T_59d6b_row3_col1 {\n",
       "  background-color: #afcafc;\n",
       "  color: #000000;\n",
       "}\n",
       "#T_59d6b_row3_col4 {\n",
       "  background-color: #5673e0;\n",
       "  color: #f1f1f1;\n",
       "}\n",
       "#T_59d6b_row3_col6, #T_59d6b_row4_col6 {\n",
       "  background-color: #b6cefa;\n",
       "  color: #000000;\n",
       "}\n",
       "#T_59d6b_row3_col7, #T_59d6b_row5_col0, #T_59d6b_row5_col4, #T_59d6b_row5_col6, #T_59d6b_row6_col5, #T_59d6b_row7_col1, #T_59d6b_row7_col2, #T_59d6b_row7_col3 {\n",
       "  background-color: #3b4cc0;\n",
       "  color: #f1f1f1;\n",
       "}\n",
       "#T_59d6b_row4_col0 {\n",
       "  background-color: #ead4c8;\n",
       "  color: #000000;\n",
       "}\n",
       "#T_59d6b_row4_col1 {\n",
       "  background-color: #bbd1f8;\n",
       "  color: #000000;\n",
       "}\n",
       "#T_59d6b_row4_col2 {\n",
       "  background-color: #5a78e4;\n",
       "  color: #f1f1f1;\n",
       "}\n",
       "#T_59d6b_row4_col3 {\n",
       "  background-color: #96b7ff;\n",
       "  color: #000000;\n",
       "}\n",
       "#T_59d6b_row4_col5 {\n",
       "  background-color: #a9c6fd;\n",
       "  color: #000000;\n",
       "}\n",
       "#T_59d6b_row4_col7 {\n",
       "  background-color: #89acfd;\n",
       "  color: #000000;\n",
       "}\n",
       "#T_59d6b_row5_col1 {\n",
       "  background-color: #485fd1;\n",
       "  color: #f1f1f1;\n",
       "}\n",
       "#T_59d6b_row5_col2 {\n",
       "  background-color: #3e51c5;\n",
       "  color: #f1f1f1;\n",
       "}\n",
       "#T_59d6b_row5_col3 {\n",
       "  background-color: #8badfd;\n",
       "  color: #000000;\n",
       "}\n",
       "#T_59d6b_row5_col7 {\n",
       "  background-color: #7295f4;\n",
       "  color: #f1f1f1;\n",
       "}\n",
       "#T_59d6b_row6_col0 {\n",
       "  background-color: #d7dce3;\n",
       "  color: #000000;\n",
       "}\n",
       "#T_59d6b_row6_col1 {\n",
       "  background-color: #4e68d8;\n",
       "  color: #f1f1f1;\n",
       "}\n",
       "#T_59d6b_row6_col3 {\n",
       "  background-color: #8caffe;\n",
       "  color: #000000;\n",
       "}\n",
       "#T_59d6b_row6_col4 {\n",
       "  background-color: #4c66d6;\n",
       "  color: #f1f1f1;\n",
       "}\n",
       "#T_59d6b_row6_col7 {\n",
       "  background-color: #98b9ff;\n",
       "  color: #000000;\n",
       "}\n",
       "#T_59d6b_row7_col0 {\n",
       "  background-color: #b9d0f9;\n",
       "  color: #000000;\n",
       "}\n",
       "#T_59d6b_row7_col4 {\n",
       "  background-color: #4961d2;\n",
       "  color: #f1f1f1;\n",
       "}\n",
       "#T_59d6b_row7_col5 {\n",
       "  background-color: #a1c0ff;\n",
       "  color: #000000;\n",
       "}\n",
       "#T_59d6b_row7_col6 {\n",
       "  background-color: #c0d4f5;\n",
       "  color: #000000;\n",
       "}\n",
       "</style>\n",
       "<table id=\"T_59d6b\">\n",
       "  <thead>\n",
       "    <tr>\n",
       "      <th class=\"blank level0\" >&nbsp;</th>\n",
       "      <th id=\"T_59d6b_level0_col0\" class=\"col_heading level0 col0\" >int_rate</th>\n",
       "      <th id=\"T_59d6b_level0_col1\" class=\"col_heading level0 col1\" >log_loan_amnt</th>\n",
       "      <th id=\"T_59d6b_level0_col2\" class=\"col_heading level0 col2\" >installment</th>\n",
       "      <th id=\"T_59d6b_level0_col3\" class=\"col_heading level0 col3\" >log_annual_inc</th>\n",
       "      <th id=\"T_59d6b_level0_col4\" class=\"col_heading level0 col4\" >duration</th>\n",
       "      <th id=\"T_59d6b_level0_col5\" class=\"col_heading level0 col5\" >fico_range_low</th>\n",
       "      <th id=\"T_59d6b_level0_col6\" class=\"col_heading level0 col6\" >revol_util</th>\n",
       "      <th id=\"T_59d6b_level0_col7\" class=\"col_heading level0 col7\" >dti</th>\n",
       "    </tr>\n",
       "  </thead>\n",
       "  <tbody>\n",
       "    <tr>\n",
       "      <th id=\"T_59d6b_level0_row0\" class=\"row_heading level0 row0\" >int_rate</th>\n",
       "      <td id=\"T_59d6b_row0_col0\" class=\"data row0 col0\" >1.000000</td>\n",
       "      <td id=\"T_59d6b_row0_col1\" class=\"data row0 col1\" >0.083863</td>\n",
       "      <td id=\"T_59d6b_row0_col2\" class=\"data row0 col2\" >0.123667</td>\n",
       "      <td id=\"T_59d6b_row0_col3\" class=\"data row0 col3\" >-0.109038</td>\n",
       "      <td id=\"T_59d6b_row0_col4\" class=\"data row0 col4\" >0.373178</td>\n",
       "      <td id=\"T_59d6b_row0_col5\" class=\"data row0 col5\" >-0.415338</td>\n",
       "      <td id=\"T_59d6b_row0_col6\" class=\"data row0 col6\" >0.262690</td>\n",
       "      <td id=\"T_59d6b_row0_col7\" class=\"data row0 col7\" >0.119422</td>\n",
       "    </tr>\n",
       "    <tr>\n",
       "      <th id=\"T_59d6b_level0_row1\" class=\"row_heading level0 row1\" >log_loan_amnt</th>\n",
       "      <td id=\"T_59d6b_row1_col0\" class=\"data row1 col0\" >0.083863</td>\n",
       "      <td id=\"T_59d6b_row1_col1\" class=\"data row1 col1\" >1.000000</td>\n",
       "      <td id=\"T_59d6b_row1_col2\" class=\"data row1 col2\" >0.877808</td>\n",
       "      <td id=\"T_59d6b_row1_col3\" class=\"data row1 col3\" >0.379664</td>\n",
       "      <td id=\"T_59d6b_row1_col4\" class=\"data row1 col4\" >0.413820</td>\n",
       "      <td id=\"T_59d6b_row1_col5\" class=\"data row1 col5\" >0.087016</td>\n",
       "      <td id=\"T_59d6b_row1_col6\" class=\"data row1 col6\" >0.108325</td>\n",
       "      <td id=\"T_59d6b_row1_col7\" class=\"data row1 col7\" >0.045102</td>\n",
       "    </tr>\n",
       "    <tr>\n",
       "      <th id=\"T_59d6b_level0_row2\" class=\"row_heading level0 row2\" >installment</th>\n",
       "      <td id=\"T_59d6b_row2_col0\" class=\"data row2 col0\" >0.123667</td>\n",
       "      <td id=\"T_59d6b_row2_col1\" class=\"data row2 col1\" >0.877808</td>\n",
       "      <td id=\"T_59d6b_row2_col2\" class=\"data row2 col2\" >1.000000</td>\n",
       "      <td id=\"T_59d6b_row2_col3\" class=\"data row2 col3\" >0.385775</td>\n",
       "      <td id=\"T_59d6b_row2_col4\" class=\"data row2 col4\" >0.142060</td>\n",
       "      <td id=\"T_59d6b_row2_col5\" class=\"data row2 col5\" >0.053882</td>\n",
       "      <td id=\"T_59d6b_row2_col6\" class=\"data row2 col6\" >0.122495</td>\n",
       "      <td id=\"T_59d6b_row2_col7\" class=\"data row2 col7\" >0.042640</td>\n",
       "    </tr>\n",
       "    <tr>\n",
       "      <th id=\"T_59d6b_level0_row3\" class=\"row_heading level0 row3\" >log_annual_inc</th>\n",
       "      <td id=\"T_59d6b_row3_col0\" class=\"data row3 col0\" >-0.109038</td>\n",
       "      <td id=\"T_59d6b_row3_col1\" class=\"data row3 col1\" >0.379664</td>\n",
       "      <td id=\"T_59d6b_row3_col2\" class=\"data row3 col2\" >0.385775</td>\n",
       "      <td id=\"T_59d6b_row3_col3\" class=\"data row3 col3\" >1.000000</td>\n",
       "      <td id=\"T_59d6b_row3_col4\" class=\"data row3 col4\" >0.100023</td>\n",
       "      <td id=\"T_59d6b_row3_col5\" class=\"data row3 col5\" >0.062736</td>\n",
       "      <td id=\"T_59d6b_row3_col6\" class=\"data row3 col6\" >0.068547</td>\n",
       "      <td id=\"T_59d6b_row3_col7\" class=\"data row3 col7\" >-0.240150</td>\n",
       "    </tr>\n",
       "    <tr>\n",
       "      <th id=\"T_59d6b_level0_row4\" class=\"row_heading level0 row4\" >duration</th>\n",
       "      <td id=\"T_59d6b_row4_col0\" class=\"data row4 col0\" >0.373178</td>\n",
       "      <td id=\"T_59d6b_row4_col1\" class=\"data row4 col1\" >0.413820</td>\n",
       "      <td id=\"T_59d6b_row4_col2\" class=\"data row4 col2\" >0.142060</td>\n",
       "      <td id=\"T_59d6b_row4_col3\" class=\"data row4 col3\" >0.100023</td>\n",
       "      <td id=\"T_59d6b_row4_col4\" class=\"data row4 col4\" >1.000000</td>\n",
       "      <td id=\"T_59d6b_row4_col5\" class=\"data row4 col5\" >0.009706</td>\n",
       "      <td id=\"T_59d6b_row4_col6\" class=\"data row4 col6\" >0.068505</td>\n",
       "      <td id=\"T_59d6b_row4_col7\" class=\"data row4 col7\" >0.057225</td>\n",
       "    </tr>\n",
       "    <tr>\n",
       "      <th id=\"T_59d6b_level0_row5\" class=\"row_heading level0 row5\" >fico_range_low</th>\n",
       "      <td id=\"T_59d6b_row5_col0\" class=\"data row5 col0\" >-0.415338</td>\n",
       "      <td id=\"T_59d6b_row5_col1\" class=\"data row5 col1\" >0.087016</td>\n",
       "      <td id=\"T_59d6b_row5_col2\" class=\"data row5 col2\" >0.053882</td>\n",
       "      <td id=\"T_59d6b_row5_col3\" class=\"data row5 col3\" >0.062736</td>\n",
       "      <td id=\"T_59d6b_row5_col4\" class=\"data row5 col4\" >0.009706</td>\n",
       "      <td id=\"T_59d6b_row5_col5\" class=\"data row5 col5\" >1.000000</td>\n",
       "      <td id=\"T_59d6b_row5_col6\" class=\"data row5 col6\" >-0.476191</td>\n",
       "      <td id=\"T_59d6b_row5_col7\" class=\"data row5 col7\" >-0.025385</td>\n",
       "    </tr>\n",
       "    <tr>\n",
       "      <th id=\"T_59d6b_level0_row6\" class=\"row_heading level0 row6\" >revol_util</th>\n",
       "      <td id=\"T_59d6b_row6_col0\" class=\"data row6 col0\" >0.262690</td>\n",
       "      <td id=\"T_59d6b_row6_col1\" class=\"data row6 col1\" >0.108325</td>\n",
       "      <td id=\"T_59d6b_row6_col2\" class=\"data row6 col2\" >0.122495</td>\n",
       "      <td id=\"T_59d6b_row6_col3\" class=\"data row6 col3\" >0.068547</td>\n",
       "      <td id=\"T_59d6b_row6_col4\" class=\"data row6 col4\" >0.068505</td>\n",
       "      <td id=\"T_59d6b_row6_col5\" class=\"data row6 col5\" >-0.476191</td>\n",
       "      <td id=\"T_59d6b_row6_col6\" class=\"data row6 col6\" >1.000000</td>\n",
       "      <td id=\"T_59d6b_row6_col7\" class=\"data row6 col7\" >0.112625</td>\n",
       "    </tr>\n",
       "    <tr>\n",
       "      <th id=\"T_59d6b_level0_row7\" class=\"row_heading level0 row7\" >dti</th>\n",
       "      <td id=\"T_59d6b_row7_col0\" class=\"data row7 col0\" >0.119422</td>\n",
       "      <td id=\"T_59d6b_row7_col1\" class=\"data row7 col1\" >0.045102</td>\n",
       "      <td id=\"T_59d6b_row7_col2\" class=\"data row7 col2\" >0.042640</td>\n",
       "      <td id=\"T_59d6b_row7_col3\" class=\"data row7 col3\" >-0.240150</td>\n",
       "      <td id=\"T_59d6b_row7_col4\" class=\"data row7 col4\" >0.057225</td>\n",
       "      <td id=\"T_59d6b_row7_col5\" class=\"data row7 col5\" >-0.025385</td>\n",
       "      <td id=\"T_59d6b_row7_col6\" class=\"data row7 col6\" >0.112625</td>\n",
       "      <td id=\"T_59d6b_row7_col7\" class=\"data row7 col7\" >1.000000</td>\n",
       "    </tr>\n",
       "  </tbody>\n",
       "</table>\n"
      ],
      "text/plain": [
       "<pandas.io.formats.style.Styler at 0x7ff6408f52e0>"
      ]
     },
     "execution_count": 10,
     "metadata": {},
     "output_type": "execute_result"
    }
   ],
   "source": [
    "cols = ['int_rate', 'log_loan_amnt', 'installment', 'log_annual_inc', 'duration', 'fico_range_low', 'revol_util', 'dti']\n",
    "corr = ld[cols].corr()\n",
    "corr.style.background_gradient(cmap='coolwarm')\n",
    "\n",
    "# ld[cols].corr() # <--- use this if you just want the table in non-graphical format"
   ]
  },
  {
   "cell_type": "markdown",
   "metadata": {},
   "source": [
    "Of these values, interest rate has the strongest correlations with duration and FICO score. The correlation between loan amount\n",
    "and installment size is quite high, so we should drop one of these from our subsequent analysis (highly correlated variables can \n",
    "cause issues with linear regression).\n",
    "\n",
    "Create a list of the variables to use for the prediction of interest rate:"
   ]
  },
  {
   "cell_type": "code",
   "execution_count": 11,
   "metadata": {},
   "outputs": [],
   "source": [
    "pred_vars = ['log_loan_amnt', 'log_annual_inc', 'fico_range_low', 'revol_util', 'dti', 'duration']"
   ]
  },
  {
   "cell_type": "markdown",
   "metadata": {},
   "source": [
    "### Drop rows with missing values\n",
    "\n",
    "There are some rows in this dataframe that are missing values for at least one of our predictor columns.\n",
    "We will drop these from the dataframe before proceeding to avoid downstream errors."
   ]
  },
  {
   "cell_type": "code",
   "execution_count": 12,
   "metadata": {},
   "outputs": [
    {
     "name": "stdout",
     "output_type": "stream",
     "text": [
      "before dropping rows with missing data 249995\n",
      "after dropping rows with missing data 249582\n"
     ]
    }
   ],
   "source": [
    "print(\"before dropping rows with missing data\", len(ld))\n",
    "ld = ld.dropna(subset=pred_vars)\n",
    "print(\"after dropping rows with missing data\", len(ld))"
   ]
  },
  {
   "cell_type": "markdown",
   "metadata": {},
   "source": [
    "We now have a dataset that is cleaned and ready for analysis.\n",
    "\n",
    "# Training and testing sets\n",
    "With this dataset, the observations are ordered from newest to oldest. We can \n",
    "simulate a real-world situation by splitting our data into train and test subsets\n",
    "by their position in the series. "
   ]
  },
  {
   "cell_type": "code",
   "execution_count": 13,
   "metadata": {},
   "outputs": [],
   "source": [
    "from sklearn.model_selection import train_test_split\n",
    "\n",
    "# use index-based sampling since we have time series data\n",
    "train, test = train_test_split(ld, test_size=0.25, shuffle=False)"
   ]
  },
  {
   "cell_type": "markdown",
   "metadata": {},
   "source": [
    "Now, view the start and end dates for the two samples:"
   ]
  },
  {
   "cell_type": "code",
   "execution_count": 15,
   "metadata": {},
   "outputs": [
    {
     "name": "stdout",
     "output_type": "stream",
     "text": [
      "training data starts\n",
      " 0    Jul-2007\n",
      "1    Jul-2007\n",
      "2    Jul-2007\n",
      "3    Jul-2007\n",
      "4    Jul-2007\n",
      "Name: issue_d, dtype: object\n",
      "training data ends\n",
      " 187369    Nov-2017\n",
      "187370    Nov-2017\n",
      "187371    Nov-2017\n",
      "187372    Nov-2017\n",
      "187373    Nov-2017\n",
      "Name: issue_d, dtype: object\n",
      "testing data starts\n",
      " 187374    Nov-2017\n",
      "187375    Nov-2017\n",
      "187376    Nov-2017\n",
      "187377    Nov-2017\n",
      "187378    Nov-2017\n",
      "Name: issue_d, dtype: object\n",
      "testing data ends\n",
      " 249990    Dec-2018\n",
      "249991    Dec-2018\n",
      "249992    Dec-2018\n",
      "249993    Dec-2018\n",
      "249994    Dec-2018\n",
      "Name: issue_d, dtype: object\n"
     ]
    }
   ],
   "source": [
    "# earliest and latest dates in train\n",
    "print(\"training data starts\\n\", train['issue_d'].head())\n",
    "print(\"training data ends\\n\", train['issue_d'].tail())\n",
    "# earliest and latest in test\n",
    "print(\"testing data starts\\n\", test['issue_d'].head())\n",
    "print(\"testing data ends\\n\", test['issue_d'].tail())"
   ]
  },
  {
   "cell_type": "markdown",
   "metadata": {},
   "source": [
    "# Simple Linear Regression\n",
    "\n",
    "The syntax for creating models using the `statsmodels` package\n",
    "is similar to that of `sklearn` (`sklearn` has linear regression\n",
    "functions, but it is somewhat barebones in it's model summaries\n",
    "compared to `statsmodels`). The documentation for \n",
    "ordinary least squares (OLS) regression using\n",
    "`statsmodels` is \n",
    "[here](https://www.statsmodels.org/devel/generated/statsmodels.regression.linear_model.OLS.html#statsmodels.regression.linear_model.OLS).\n",
    "\n",
    "Predict the interest rate as a function of credit score\n",
    "`fico_range_low`. This variable has the strongest correlation\n",
    "with interest rate from those in our correlation table."
   ]
  },
  {
   "cell_type": "code",
   "execution_count": 16,
   "metadata": {},
   "outputs": [
    {
     "data": {
      "text/html": [
       "<table class=\"simpletable\">\n",
       "<caption>OLS Regression Results</caption>\n",
       "<tr>\n",
       "  <th>Dep. Variable:</th>        <td>int_rate</td>     <th>  R-squared (uncentered):</th>       <td>   0.873</td>  \n",
       "</tr>\n",
       "<tr>\n",
       "  <th>Model:</th>                   <td>OLS</td>       <th>  Adj. R-squared (uncentered):</th>  <td>   0.873</td>  \n",
       "</tr>\n",
       "<tr>\n",
       "  <th>Method:</th>             <td>Least Squares</td>  <th>  F-statistic:       </th>           <td>1.287e+06</td> \n",
       "</tr>\n",
       "<tr>\n",
       "  <th>Date:</th>             <td>Thu, 20 Oct 2022</td> <th>  Prob (F-statistic):</th>            <td>  0.00</td>   \n",
       "</tr>\n",
       "<tr>\n",
       "  <th>Time:</th>                 <td>00:34:31</td>     <th>  Log-Likelihood:    </th>          <td>-5.6714e+05</td>\n",
       "</tr>\n",
       "<tr>\n",
       "  <th>No. Observations:</th>      <td>187186</td>      <th>  AIC:               </th>           <td>1.134e+06</td> \n",
       "</tr>\n",
       "<tr>\n",
       "  <th>Df Residuals:</th>          <td>187185</td>      <th>  BIC:               </th>           <td>1.134e+06</td> \n",
       "</tr>\n",
       "<tr>\n",
       "  <th>Df Model:</th>              <td>     1</td>      <th>                     </th>               <td> </td>     \n",
       "</tr>\n",
       "<tr>\n",
       "  <th>Covariance Type:</th>      <td>nonrobust</td>    <th>                     </th>               <td> </td>     \n",
       "</tr>\n",
       "</table>\n",
       "<table class=\"simpletable\">\n",
       "<tr>\n",
       "         <td></td>           <th>coef</th>     <th>std err</th>      <th>t</th>      <th>P>|t|</th>  <th>[0.025</th>    <th>0.975]</th>  \n",
       "</tr>\n",
       "<tr>\n",
       "  <th>fico_range_low</th> <td>    0.0188</td> <td> 1.66e-05</td> <td> 1134.408</td> <td> 0.000</td> <td>    0.019</td> <td>    0.019</td>\n",
       "</tr>\n",
       "</table>\n",
       "<table class=\"simpletable\">\n",
       "<tr>\n",
       "  <th>Omnibus:</th>       <td>10997.634</td> <th>  Durbin-Watson:     </th> <td>   1.948</td> \n",
       "</tr>\n",
       "<tr>\n",
       "  <th>Prob(Omnibus):</th>  <td> 0.000</td>   <th>  Jarque-Bera (JB):  </th> <td>13259.038</td>\n",
       "</tr>\n",
       "<tr>\n",
       "  <th>Skew:</th>           <td> 0.605</td>   <th>  Prob(JB):          </th> <td>    0.00</td> \n",
       "</tr>\n",
       "<tr>\n",
       "  <th>Kurtosis:</th>       <td> 3.483</td>   <th>  Cond. No.          </th> <td>    1.00</td> \n",
       "</tr>\n",
       "</table><br/><br/>Notes:<br/>[1] R² is computed without centering (uncentered) since the model does not contain a constant.<br/>[2] Standard Errors assume that the covariance matrix of the errors is correctly specified."
      ],
      "text/plain": [
       "<class 'statsmodels.iolib.summary.Summary'>\n",
       "\"\"\"\n",
       "                                 OLS Regression Results                                \n",
       "=======================================================================================\n",
       "Dep. Variable:               int_rate   R-squared (uncentered):                   0.873\n",
       "Model:                            OLS   Adj. R-squared (uncentered):              0.873\n",
       "Method:                 Least Squares   F-statistic:                          1.287e+06\n",
       "Date:                Thu, 20 Oct 2022   Prob (F-statistic):                        0.00\n",
       "Time:                        00:34:31   Log-Likelihood:                     -5.6714e+05\n",
       "No. Observations:              187186   AIC:                                  1.134e+06\n",
       "Df Residuals:                  187185   BIC:                                  1.134e+06\n",
       "Df Model:                           1                                                  \n",
       "Covariance Type:            nonrobust                                                  \n",
       "==================================================================================\n",
       "                     coef    std err          t      P>|t|      [0.025      0.975]\n",
       "----------------------------------------------------------------------------------\n",
       "fico_range_low     0.0188   1.66e-05   1134.408      0.000       0.019       0.019\n",
       "==============================================================================\n",
       "Omnibus:                    10997.634   Durbin-Watson:                   1.948\n",
       "Prob(Omnibus):                  0.000   Jarque-Bera (JB):            13259.038\n",
       "Skew:                           0.605   Prob(JB):                         0.00\n",
       "Kurtosis:                       3.483   Cond. No.                         1.00\n",
       "==============================================================================\n",
       "\n",
       "Notes:\n",
       "[1] R² is computed without centering (uncentered) since the model does not contain a constant.\n",
       "[2] Standard Errors assume that the covariance matrix of the errors is correctly specified.\n",
       "\"\"\""
      ]
     },
     "execution_count": 16,
     "metadata": {},
     "output_type": "execute_result"
    }
   ],
   "source": [
    "reg_fico = sm.OLS(train['int_rate'], train['fico_range_low']).fit()\n",
    "reg_fico.summary()"
   ]
  },
  {
   "cell_type": "markdown",
   "metadata": {},
   "source": [
    "Now, add additional predictors from our list from earlier. "
   ]
  },
  {
   "cell_type": "markdown",
   "metadata": {},
   "source": [
    "## Add additional variables\n",
    "Next, build a regression using the variables in the list of `pred_vars`. "
   ]
  },
  {
   "cell_type": "code",
   "execution_count": 17,
   "metadata": {},
   "outputs": [
    {
     "data": {
      "text/html": [
       "<table class=\"simpletable\">\n",
       "<caption>OLS Regression Results</caption>\n",
       "<tr>\n",
       "  <th>Dep. Variable:</th>        <td>int_rate</td>     <th>  R-squared (uncentered):</th>       <td>   0.910</td>  \n",
       "</tr>\n",
       "<tr>\n",
       "  <th>Model:</th>                   <td>OLS</td>       <th>  Adj. R-squared (uncentered):</th>  <td>   0.909</td>  \n",
       "</tr>\n",
       "<tr>\n",
       "  <th>Method:</th>             <td>Least Squares</td>  <th>  F-statistic:       </th>           <td>3.135e+05</td> \n",
       "</tr>\n",
       "<tr>\n",
       "  <th>Date:</th>             <td>Thu, 20 Oct 2022</td> <th>  Prob (F-statistic):</th>            <td>  0.00</td>   \n",
       "</tr>\n",
       "<tr>\n",
       "  <th>Time:</th>                 <td>00:34:34</td>     <th>  Log-Likelihood:    </th>          <td>-5.3544e+05</td>\n",
       "</tr>\n",
       "<tr>\n",
       "  <th>No. Observations:</th>      <td>187186</td>      <th>  AIC:               </th>           <td>1.071e+06</td> \n",
       "</tr>\n",
       "<tr>\n",
       "  <th>Df Residuals:</th>          <td>187180</td>      <th>  BIC:               </th>           <td>1.071e+06</td> \n",
       "</tr>\n",
       "<tr>\n",
       "  <th>Df Model:</th>              <td>     6</td>      <th>                     </th>               <td> </td>     \n",
       "</tr>\n",
       "<tr>\n",
       "  <th>Covariance Type:</th>      <td>nonrobust</td>    <th>                     </th>               <td> </td>     \n",
       "</tr>\n",
       "</table>\n",
       "<table class=\"simpletable\">\n",
       "<tr>\n",
       "         <td></td>           <th>coef</th>     <th>std err</th>      <th>t</th>      <th>P>|t|</th>  <th>[0.025</th>    <th>0.975]</th>  \n",
       "</tr>\n",
       "<tr>\n",
       "  <th>log_loan_amnt</th>  <td>    0.4867</td> <td>    0.018</td> <td>   27.573</td> <td> 0.000</td> <td>    0.452</td> <td>    0.521</td>\n",
       "</tr>\n",
       "<tr>\n",
       "  <th>log_annual_inc</th> <td>    0.4736</td> <td>    0.019</td> <td>   25.196</td> <td> 0.000</td> <td>    0.437</td> <td>    0.510</td>\n",
       "</tr>\n",
       "<tr>\n",
       "  <th>fico_range_low</th> <td>   -0.0094</td> <td>    0.000</td> <td>  -38.372</td> <td> 0.000</td> <td>   -0.010</td> <td>   -0.009</td>\n",
       "</tr>\n",
       "<tr>\n",
       "  <th>revol_util</th>     <td>    0.0350</td> <td>    0.000</td> <td>   79.704</td> <td> 0.000</td> <td>    0.034</td> <td>    0.036</td>\n",
       "</tr>\n",
       "<tr>\n",
       "  <th>dti</th>            <td>    0.0454</td> <td>    0.001</td> <td>   52.977</td> <td> 0.000</td> <td>    0.044</td> <td>    0.047</td>\n",
       "</tr>\n",
       "<tr>\n",
       "  <th>duration</th>       <td>    0.1685</td> <td>    0.001</td> <td>  169.180</td> <td> 0.000</td> <td>    0.167</td> <td>    0.170</td>\n",
       "</tr>\n",
       "</table>\n",
       "<table class=\"simpletable\">\n",
       "<tr>\n",
       "  <th>Omnibus:</th>       <td>20040.090</td> <th>  Durbin-Watson:     </th> <td>   1.920</td> \n",
       "</tr>\n",
       "<tr>\n",
       "  <th>Prob(Omnibus):</th>  <td> 0.000</td>   <th>  Jarque-Bera (JB):  </th> <td>33725.942</td>\n",
       "</tr>\n",
       "<tr>\n",
       "  <th>Skew:</th>           <td> 0.755</td>   <th>  Prob(JB):          </th> <td>    0.00</td> \n",
       "</tr>\n",
       "<tr>\n",
       "  <th>Kurtosis:</th>       <td> 4.429</td>   <th>  Cond. No.          </th> <td>1.62e+03</td> \n",
       "</tr>\n",
       "</table><br/><br/>Notes:<br/>[1] R² is computed without centering (uncentered) since the model does not contain a constant.<br/>[2] Standard Errors assume that the covariance matrix of the errors is correctly specified.<br/>[3] The condition number is large, 1.62e+03. This might indicate that there are<br/>strong multicollinearity or other numerical problems."
      ],
      "text/plain": [
       "<class 'statsmodels.iolib.summary.Summary'>\n",
       "\"\"\"\n",
       "                                 OLS Regression Results                                \n",
       "=======================================================================================\n",
       "Dep. Variable:               int_rate   R-squared (uncentered):                   0.910\n",
       "Model:                            OLS   Adj. R-squared (uncentered):              0.909\n",
       "Method:                 Least Squares   F-statistic:                          3.135e+05\n",
       "Date:                Thu, 20 Oct 2022   Prob (F-statistic):                        0.00\n",
       "Time:                        00:34:34   Log-Likelihood:                     -5.3544e+05\n",
       "No. Observations:              187186   AIC:                                  1.071e+06\n",
       "Df Residuals:                  187180   BIC:                                  1.071e+06\n",
       "Df Model:                           6                                                  \n",
       "Covariance Type:            nonrobust                                                  \n",
       "==================================================================================\n",
       "                     coef    std err          t      P>|t|      [0.025      0.975]\n",
       "----------------------------------------------------------------------------------\n",
       "log_loan_amnt      0.4867      0.018     27.573      0.000       0.452       0.521\n",
       "log_annual_inc     0.4736      0.019     25.196      0.000       0.437       0.510\n",
       "fico_range_low    -0.0094      0.000    -38.372      0.000      -0.010      -0.009\n",
       "revol_util         0.0350      0.000     79.704      0.000       0.034       0.036\n",
       "dti                0.0454      0.001     52.977      0.000       0.044       0.047\n",
       "duration           0.1685      0.001    169.180      0.000       0.167       0.170\n",
       "==============================================================================\n",
       "Omnibus:                    20040.090   Durbin-Watson:                   1.920\n",
       "Prob(Omnibus):                  0.000   Jarque-Bera (JB):            33725.942\n",
       "Skew:                           0.755   Prob(JB):                         0.00\n",
       "Kurtosis:                       4.429   Cond. No.                     1.62e+03\n",
       "==============================================================================\n",
       "\n",
       "Notes:\n",
       "[1] R² is computed without centering (uncentered) since the model does not contain a constant.\n",
       "[2] Standard Errors assume that the covariance matrix of the errors is correctly specified.\n",
       "[3] The condition number is large, 1.62e+03. This might indicate that there are\n",
       "strong multicollinearity or other numerical problems.\n",
       "\"\"\""
      ]
     },
     "execution_count": 17,
     "metadata": {},
     "output_type": "execute_result"
    }
   ],
   "source": [
    "reg_multi = sm.OLS(train['int_rate'], train[pred_vars], hasconst=False).fit()\n",
    "reg_multi.summary()"
   ]
  },
  {
   "cell_type": "markdown",
   "metadata": {},
   "source": [
    "This new model performs better on out of sample data.\n",
    "\n",
    "# Evaluation\n",
    "\n",
    "For OLS, the $R^2$ of a model is often the statistic that people look at first. This \n",
    "describes the amount of variance in $Y$ that is explained by the predictors. It will always\n",
    "increase with additional predictor variables, so we will want to look at some additional measures that penalize \n",
    "having too many predictors in the model.\n",
    "\n",
    "One measure is the Adjusted $R^2$, which considers the number of variables in the model. For large samples, this\n",
    "is essentially the same as $R^2$. Two measures that consider both the number of variables *and* the quality\n",
    "of the model are Akaike's Information Criterion (AIC) and Bayesian Information Criterion (BIC). These values\n",
    "do not have much significance on their own, like $R^2$, but they are very good for comparing models. Lower \n",
    "values of AIC or BIC are better.\n",
    "\n",
    "Which model has the lowest AIC?"
   ]
  },
  {
   "cell_type": "code",
   "execution_count": 18,
   "metadata": {},
   "outputs": [
    {
     "name": "stdout",
     "output_type": "stream",
     "text": [
      "1134288.3080747342\n",
      "1070889.1563837891\n"
     ]
    }
   ],
   "source": [
    "print(reg_fico.aic)\n",
    "print(reg_multi.aic)"
   ]
  },
  {
   "cell_type": "code",
   "execution_count": 19,
   "metadata": {},
   "outputs": [
    {
     "name": "stdout",
     "output_type": "stream",
     "text": [
      "1134298.4479327882\n",
      "1070949.9955321127\n"
     ]
    }
   ],
   "source": [
    "print(reg_fico.bic)\n",
    "print(reg_multi.bic)"
   ]
  },
  {
   "cell_type": "markdown",
   "metadata": {},
   "source": [
    "Another comparison method is to use an ANOVA. This compares models for statistically significant\n",
    "improvements. A $p$-value less than $0.05$ is generally considered a significant improvement.\n",
    "This method can determine if the addition of variables improves the model."
   ]
  },
  {
   "cell_type": "code",
   "execution_count": 20,
   "metadata": {},
   "outputs": [
    {
     "data": {
      "text/html": [
       "<div>\n",
       "<style scoped>\n",
       "    .dataframe tbody tr th:only-of-type {\n",
       "        vertical-align: middle;\n",
       "    }\n",
       "\n",
       "    .dataframe tbody tr th {\n",
       "        vertical-align: top;\n",
       "    }\n",
       "\n",
       "    .dataframe thead th {\n",
       "        text-align: right;\n",
       "    }\n",
       "</style>\n",
       "<table border=\"1\" class=\"dataframe\">\n",
       "  <thead>\n",
       "    <tr style=\"text-align: right;\">\n",
       "      <th></th>\n",
       "      <th>df_resid</th>\n",
       "      <th>ssr</th>\n",
       "      <th>df_diff</th>\n",
       "      <th>ss_diff</th>\n",
       "      <th>F</th>\n",
       "      <th>Pr(&gt;F)</th>\n",
       "    </tr>\n",
       "  </thead>\n",
       "  <tbody>\n",
       "    <tr>\n",
       "      <th>0</th>\n",
       "      <td>187185.0</td>\n",
       "      <td>4.693344e+06</td>\n",
       "      <td>0.0</td>\n",
       "      <td>NaN</td>\n",
       "      <td>NaN</td>\n",
       "      <td>NaN</td>\n",
       "    </tr>\n",
       "    <tr>\n",
       "      <th>1</th>\n",
       "      <td>187180.0</td>\n",
       "      <td>3.344763e+06</td>\n",
       "      <td>5.0</td>\n",
       "      <td>1.348581e+06</td>\n",
       "      <td>15093.884858</td>\n",
       "      <td>0.0</td>\n",
       "    </tr>\n",
       "  </tbody>\n",
       "</table>\n",
       "</div>"
      ],
      "text/plain": [
       "   df_resid           ssr  df_diff       ss_diff             F  Pr(>F)\n",
       "0  187185.0  4.693344e+06      0.0           NaN           NaN     NaN\n",
       "1  187180.0  3.344763e+06      5.0  1.348581e+06  15093.884858     0.0"
      ]
     },
     "execution_count": 20,
     "metadata": {},
     "output_type": "execute_result"
    }
   ],
   "source": [
    "sm.stats.anova_lm(reg_fico, reg_multi)"
   ]
  },
  {
   "cell_type": "markdown",
   "metadata": {},
   "source": [
    "## Prediction\n",
    "To further evaluate the quality of these models, we will look at out-of-sample prediction\n",
    "with the test data. We will use the root mean squared error (RMSE) to evaluate \n",
    "the performance of this model. Lower values indicate smaller prediction errors and\n",
    "a better model. \n",
    "\n",
    "First, get the predictions from the model that only uses FICO."
   ]
  },
  {
   "cell_type": "code",
   "execution_count": 21,
   "metadata": {},
   "outputs": [
    {
     "name": "stdout",
     "output_type": "stream",
     "text": [
      "RMSE: 5.4935559541762\n"
     ]
    }
   ],
   "source": [
    "fico_pred = reg_fico.predict(test['fico_range_low'])\n",
    "\n",
    "fico_rmse = metrics.mean_squared_error(test['int_rate'], fico_pred, squared=False)\n",
    "print(\"RMSE:\", fico_rmse)"
   ]
  },
  {
   "cell_type": "markdown",
   "metadata": {},
   "source": [
    "Then do the same for the model using multiple predictors."
   ]
  },
  {
   "cell_type": "code",
   "execution_count": 22,
   "metadata": {},
   "outputs": [
    {
     "name": "stdout",
     "output_type": "stream",
     "text": [
      "RMSE: 4.706613506113942\n"
     ]
    }
   ],
   "source": [
    "multi_pred = reg_multi.predict(test[pred_vars])\n",
    "\n",
    "multi_rmse = metrics.mean_squared_error(test['int_rate'], multi_pred, squared=False)\n",
    "print(\"RMSE:\", multi_rmse)"
   ]
  },
  {
   "cell_type": "markdown",
   "metadata": {},
   "source": [
    "The second model performs better on out of sample data. \n",
    "\n",
    "# Summary\n",
    "We built regression models in an attempt to predict interest rates for loans from Lending Club\n",
    "using data about the loan request and borrower information. First, we cleaned and transformed the\n",
    "data, then viewed the correlations between a subset of variables. Then, we built models on\n",
    "on a training set of data and compared model fit measures (AIC, BIC, ANOVA). Lastly, we compared\n",
    "the models on a holdout set of data.\n",
    "\n",
    "# Exercises\n",
    "1. Can you build a model that performs significantly better than the models \n",
    "   already built? Train the model and compare it. Which variables did you \n",
    "   use and why do you think they improved the model? Provide the statistics you used \n",
    "   to evaluate. \n",
    "\n",
    "   I used 'loan_amnt', 'inq_last_6mths', 'int_rate', 'bc_util', 'log_last_pymnt_amnt' \n",
    "             ,'duration' and this did not improve pver the lab my aic is -11163604.188716834 and my rsme is 9.91286636332359e-15\n",
    "\n",
    "   **Do not use the `installment` column.**\n",
    "   \n",
    "2. What level of RMSE would you consider acceptable would you consider appropriate in this situation? Provide justification for your answer.\n",
    "\n",
    "i would say a 3 because so far the closest we got was a 4 so a three would mean we've gotten closer to the interest rate"
   ]
  },
  {
   "cell_type": "code",
   "execution_count": 23,
   "metadata": {},
   "outputs": [
    {
     "name": "stderr",
     "output_type": "stream",
     "text": [
      "/var/folders/ll/5fnyw07s0p74sdfnrqqwwhgc0000gn/T/ipykernel_67882/177355301.py:1: DtypeWarning: Columns (20,60,119,130,131,132,135,136,137,140,146,147,148) have mixed types. Specify dtype option on import or set low_memory=False.\n",
      "  ld = pd.read_csv('data/lendingclub_2015-2018.csv')\n"
     ]
    },
    {
     "data": {
      "text/html": [
       "<div>\n",
       "<style scoped>\n",
       "    .dataframe tbody tr th:only-of-type {\n",
       "        vertical-align: middle;\n",
       "    }\n",
       "\n",
       "    .dataframe tbody tr th {\n",
       "        vertical-align: top;\n",
       "    }\n",
       "\n",
       "    .dataframe thead th {\n",
       "        text-align: right;\n",
       "    }\n",
       "</style>\n",
       "<table border=\"1\" class=\"dataframe\">\n",
       "  <thead>\n",
       "    <tr style=\"text-align: right;\">\n",
       "      <th></th>\n",
       "      <th>index</th>\n",
       "      <th>id</th>\n",
       "      <th>member_id</th>\n",
       "      <th>loan_amnt</th>\n",
       "      <th>funded_amnt</th>\n",
       "      <th>funded_amnt_inv</th>\n",
       "      <th>term</th>\n",
       "      <th>int_rate</th>\n",
       "      <th>installment</th>\n",
       "      <th>grade</th>\n",
       "      <th>...</th>\n",
       "      <th>hardship_last_payment_amount</th>\n",
       "      <th>disbursement_method</th>\n",
       "      <th>debt_settlement_flag</th>\n",
       "      <th>debt_settlement_flag_date</th>\n",
       "      <th>settlement_status</th>\n",
       "      <th>settlement_date</th>\n",
       "      <th>settlement_amount</th>\n",
       "      <th>settlement_percentage</th>\n",
       "      <th>settlement_term</th>\n",
       "      <th>duration</th>\n",
       "    </tr>\n",
       "  </thead>\n",
       "  <tbody>\n",
       "    <tr>\n",
       "      <th>249990</th>\n",
       "      <td>249991</td>\n",
       "      <td>145635719</td>\n",
       "      <td>NaN</td>\n",
       "      <td>35000.0</td>\n",
       "      <td>35000.0</td>\n",
       "      <td>35000.0</td>\n",
       "      <td>60 months</td>\n",
       "      <td>18.94</td>\n",
       "      <td>906.77</td>\n",
       "      <td>D</td>\n",
       "      <td>...</td>\n",
       "      <td>NaN</td>\n",
       "      <td>Cash</td>\n",
       "      <td>N</td>\n",
       "      <td>NaN</td>\n",
       "      <td>NaN</td>\n",
       "      <td>NaN</td>\n",
       "      <td>NaN</td>\n",
       "      <td>NaN</td>\n",
       "      <td>NaN</td>\n",
       "      <td>60</td>\n",
       "    </tr>\n",
       "    <tr>\n",
       "      <th>249991</th>\n",
       "      <td>249992</td>\n",
       "      <td>145635974</td>\n",
       "      <td>NaN</td>\n",
       "      <td>7500.0</td>\n",
       "      <td>7500.0</td>\n",
       "      <td>7500.0</td>\n",
       "      <td>36 months</td>\n",
       "      <td>10.72</td>\n",
       "      <td>244.55</td>\n",
       "      <td>B</td>\n",
       "      <td>...</td>\n",
       "      <td>NaN</td>\n",
       "      <td>Cash</td>\n",
       "      <td>N</td>\n",
       "      <td>NaN</td>\n",
       "      <td>NaN</td>\n",
       "      <td>NaN</td>\n",
       "      <td>NaN</td>\n",
       "      <td>NaN</td>\n",
       "      <td>NaN</td>\n",
       "      <td>36</td>\n",
       "    </tr>\n",
       "    <tr>\n",
       "      <th>249992</th>\n",
       "      <td>249993</td>\n",
       "      <td>145637006</td>\n",
       "      <td>NaN</td>\n",
       "      <td>30000.0</td>\n",
       "      <td>30000.0</td>\n",
       "      <td>30000.0</td>\n",
       "      <td>60 months</td>\n",
       "      <td>27.27</td>\n",
       "      <td>920.91</td>\n",
       "      <td>E</td>\n",
       "      <td>...</td>\n",
       "      <td>NaN</td>\n",
       "      <td>Cash</td>\n",
       "      <td>N</td>\n",
       "      <td>NaN</td>\n",
       "      <td>NaN</td>\n",
       "      <td>NaN</td>\n",
       "      <td>NaN</td>\n",
       "      <td>NaN</td>\n",
       "      <td>NaN</td>\n",
       "      <td>60</td>\n",
       "    </tr>\n",
       "    <tr>\n",
       "      <th>249993</th>\n",
       "      <td>249994</td>\n",
       "      <td>145641258</td>\n",
       "      <td>NaN</td>\n",
       "      <td>22650.0</td>\n",
       "      <td>22650.0</td>\n",
       "      <td>22650.0</td>\n",
       "      <td>36 months</td>\n",
       "      <td>10.72</td>\n",
       "      <td>738.54</td>\n",
       "      <td>B</td>\n",
       "      <td>...</td>\n",
       "      <td>NaN</td>\n",
       "      <td>Cash</td>\n",
       "      <td>N</td>\n",
       "      <td>NaN</td>\n",
       "      <td>NaN</td>\n",
       "      <td>NaN</td>\n",
       "      <td>NaN</td>\n",
       "      <td>NaN</td>\n",
       "      <td>NaN</td>\n",
       "      <td>36</td>\n",
       "    </tr>\n",
       "    <tr>\n",
       "      <th>249994</th>\n",
       "      <td>249995</td>\n",
       "      <td>145642272</td>\n",
       "      <td>NaN</td>\n",
       "      <td>1000.0</td>\n",
       "      <td>1000.0</td>\n",
       "      <td>1000.0</td>\n",
       "      <td>36 months</td>\n",
       "      <td>18.94</td>\n",
       "      <td>36.63</td>\n",
       "      <td>D</td>\n",
       "      <td>...</td>\n",
       "      <td>NaN</td>\n",
       "      <td>Cash</td>\n",
       "      <td>N</td>\n",
       "      <td>NaN</td>\n",
       "      <td>NaN</td>\n",
       "      <td>NaN</td>\n",
       "      <td>NaN</td>\n",
       "      <td>NaN</td>\n",
       "      <td>NaN</td>\n",
       "      <td>36</td>\n",
       "    </tr>\n",
       "  </tbody>\n",
       "</table>\n",
       "<p>5 rows × 153 columns</p>\n",
       "</div>"
      ],
      "text/plain": [
       "         index         id  member_id  loan_amnt  funded_amnt  funded_amnt_inv  \\\n",
       "249990  249991  145635719        NaN    35000.0      35000.0          35000.0   \n",
       "249991  249992  145635974        NaN     7500.0       7500.0           7500.0   \n",
       "249992  249993  145637006        NaN    30000.0      30000.0          30000.0   \n",
       "249993  249994  145641258        NaN    22650.0      22650.0          22650.0   \n",
       "249994  249995  145642272        NaN     1000.0       1000.0           1000.0   \n",
       "\n",
       "              term  int_rate  installment grade  ...  \\\n",
       "249990   60 months     18.94       906.77     D  ...   \n",
       "249991   36 months     10.72       244.55     B  ...   \n",
       "249992   60 months     27.27       920.91     E  ...   \n",
       "249993   36 months     10.72       738.54     B  ...   \n",
       "249994   36 months     18.94        36.63     D  ...   \n",
       "\n",
       "       hardship_last_payment_amount disbursement_method debt_settlement_flag  \\\n",
       "249990                          NaN                Cash                    N   \n",
       "249991                          NaN                Cash                    N   \n",
       "249992                          NaN                Cash                    N   \n",
       "249993                          NaN                Cash                    N   \n",
       "249994                          NaN                Cash                    N   \n",
       "\n",
       "       debt_settlement_flag_date  settlement_status settlement_date  \\\n",
       "249990                       NaN                NaN             NaN   \n",
       "249991                       NaN                NaN             NaN   \n",
       "249992                       NaN                NaN             NaN   \n",
       "249993                       NaN                NaN             NaN   \n",
       "249994                       NaN                NaN             NaN   \n",
       "\n",
       "       settlement_amount settlement_percentage settlement_term duration  \n",
       "249990               NaN                   NaN             NaN       60  \n",
       "249991               NaN                   NaN             NaN       36  \n",
       "249992               NaN                   NaN             NaN       60  \n",
       "249993               NaN                   NaN             NaN       36  \n",
       "249994               NaN                   NaN             NaN       36  \n",
       "\n",
       "[5 rows x 153 columns]"
      ]
     },
     "metadata": {},
     "output_type": "display_data"
    }
   ],
   "source": [
    "sd = pd.read_csv('data/lendingclub_2015-2018.csv')\n",
    "sd.head()\n",
    "tmp = sd.tail()\n",
    "display(tmp)"
   ]
  },
  {
   "cell_type": "code",
   "execution_count": 24,
   "metadata": {},
   "outputs": [
    {
     "name": "stdout",
     "output_type": "stream",
     "text": [
      "0    [, 36, months]\n",
      "1    [, 36, months]\n",
      "2    [, 36, months]\n",
      "3    [, 36, months]\n",
      "4    [, 36, months]\n",
      "Name: term, dtype: object\n"
     ]
    }
   ],
   "source": [
    "# view unique values\n",
    "sd['term'].unique()\n",
    "\n",
    "# split rows into parts\n",
    "term_split = sd['term'].str.split(' ')\n",
    "\n",
    "# view first five rows\n",
    "print(term_split[:5])"
   ]
  },
  {
   "cell_type": "code",
   "execution_count": 33,
   "metadata": {},
   "outputs": [
    {
     "data": {
      "text/plain": [
       "167    36\n",
       "274    36\n",
       "323    36\n",
       "375    36\n",
       "379    36\n",
       "Name: duration, dtype: int64"
      ]
     },
     "metadata": {},
     "output_type": "display_data"
    }
   ],
   "source": [
    "# the str function can retrieve a specific list element for all rows\n",
    "term_split.str[1]\n",
    "sd['duration'] = term_split.str[1].apply(int)\n",
    "\n",
    "# add this to the dataframe\n",
    "display(ld['duration'].head())\n",
    "\n",
    "sd['log_funded_amnt'] = np.log(sd['funded_amnt'])\n",
    "sd['log_last_pymnt_amnt'] = np.log(sd['last_pymnt_amnt']+1)\n",
    "\n",
    "pred_vars = ['loan_amnt', 'inq_last_6mths', 'int_rate', 'bc_util', 'log_last_pymnt_amnt' \n",
    "             ,'duration']\n",
    "             "
   ]
  },
  {
   "cell_type": "code",
   "execution_count": 34,
   "metadata": {},
   "outputs": [
    {
     "name": "stdout",
     "output_type": "stream",
     "text": [
      "before dropping rows with missing data 241305\n",
      "after dropping rows with missing data 241305\n"
     ]
    }
   ],
   "source": [
    "print(\"before dropping rows with missing data\", len(sd))\n",
    "sd = sd.dropna(subset=pred_vars)\n",
    "print(\"after dropping rows with missing data\", len(sd))"
   ]
  },
  {
   "cell_type": "code",
   "execution_count": 35,
   "metadata": {},
   "outputs": [],
   "source": [
    "train, test = train_test_split(sd, test_size=0.25, shuffle=False)"
   ]
  },
  {
   "cell_type": "code",
   "execution_count": 36,
   "metadata": {},
   "outputs": [
    {
     "data": {
      "text/html": [
       "<table class=\"simpletable\">\n",
       "<caption>OLS Regression Results</caption>\n",
       "<tr>\n",
       "  <th>Dep. Variable:</th>        <td>int_rate</td>     <th>  R-squared (uncentered):</th>       <td>   1.000</td> \n",
       "</tr>\n",
       "<tr>\n",
       "  <th>Model:</th>                   <td>OLS</td>       <th>  Adj. R-squared (uncentered):</th>  <td>   1.000</td> \n",
       "</tr>\n",
       "<tr>\n",
       "  <th>Method:</th>             <td>Least Squares</td>  <th>  F-statistic:       </th>           <td>6.282e+34</td>\n",
       "</tr>\n",
       "<tr>\n",
       "  <th>Date:</th>             <td>Thu, 20 Oct 2022</td> <th>  Prob (F-statistic):</th>            <td>  0.00</td>  \n",
       "</tr>\n",
       "<tr>\n",
       "  <th>Time:</th>                 <td>00:40:17</td>     <th>  Log-Likelihood:    </th>          <td>5.5818e+06</td>\n",
       "</tr>\n",
       "<tr>\n",
       "  <th>No. Observations:</th>      <td>180978</td>      <th>  AIC:               </th>          <td>-1.116e+07</td>\n",
       "</tr>\n",
       "<tr>\n",
       "  <th>Df Residuals:</th>          <td>180972</td>      <th>  BIC:               </th>          <td>-1.116e+07</td>\n",
       "</tr>\n",
       "<tr>\n",
       "  <th>Df Model:</th>              <td>     6</td>      <th>                     </th>               <td> </td>    \n",
       "</tr>\n",
       "<tr>\n",
       "  <th>Covariance Type:</th>      <td>nonrobust</td>    <th>                     </th>               <td> </td>    \n",
       "</tr>\n",
       "</table>\n",
       "<table class=\"simpletable\">\n",
       "<tr>\n",
       "           <td></td>              <th>coef</th>     <th>std err</th>      <th>t</th>      <th>P>|t|</th>  <th>[0.025</th>    <th>0.975]</th>  \n",
       "</tr>\n",
       "<tr>\n",
       "  <th>loan_amnt</th>           <td> 5.184e-19</td> <td> 2.93e-21</td> <td>  177.218</td> <td> 0.000</td> <td> 5.13e-19</td> <td> 5.24e-19</td>\n",
       "</tr>\n",
       "<tr>\n",
       "  <th>inq_last_6mths</th>      <td>-7.772e-15</td> <td> 2.63e-17</td> <td> -295.599</td> <td> 0.000</td> <td>-7.82e-15</td> <td>-7.72e-15</td>\n",
       "</tr>\n",
       "<tr>\n",
       "  <th>int_rate</th>            <td>    1.0000</td> <td> 5.57e-18</td> <td>  1.8e+17</td> <td> 0.000</td> <td>    1.000</td> <td>    1.000</td>\n",
       "</tr>\n",
       "<tr>\n",
       "  <th>bc_util</th>             <td>-6.245e-17</td> <td> 8.17e-19</td> <td>  -76.456</td> <td> 0.000</td> <td>-6.41e-17</td> <td>-6.08e-17</td>\n",
       "</tr>\n",
       "<tr>\n",
       "  <th>log_last_pymnt_amnt</th> <td> 5.135e-16</td> <td> 1.06e-17</td> <td>   48.493</td> <td> 0.000</td> <td> 4.93e-16</td> <td> 5.34e-16</td>\n",
       "</tr>\n",
       "<tr>\n",
       "  <th>duration</th>            <td> 1.058e-16</td> <td> 2.16e-18</td> <td>   49.016</td> <td> 0.000</td> <td> 1.02e-16</td> <td>  1.1e-16</td>\n",
       "</tr>\n",
       "</table>\n",
       "<table class=\"simpletable\">\n",
       "<tr>\n",
       "  <th>Omnibus:</th>       <td>15683.169</td> <th>  Durbin-Watson:     </th> <td>   1.899</td> \n",
       "</tr>\n",
       "<tr>\n",
       "  <th>Prob(Omnibus):</th>  <td> 0.000</td>   <th>  Jarque-Bera (JB):  </th> <td>22711.903</td>\n",
       "</tr>\n",
       "<tr>\n",
       "  <th>Skew:</th>           <td> 0.695</td>   <th>  Prob(JB):          </th> <td>    0.00</td> \n",
       "</tr>\n",
       "<tr>\n",
       "  <th>Kurtosis:</th>       <td> 4.038</td>   <th>  Cond. No.          </th> <td>1.99e+04</td> \n",
       "</tr>\n",
       "</table><br/><br/>Notes:<br/>[1] R² is computed without centering (uncentered) since the model does not contain a constant.<br/>[2] Standard Errors assume that the covariance matrix of the errors is correctly specified.<br/>[3] The condition number is large, 1.99e+04. This might indicate that there are<br/>strong multicollinearity or other numerical problems."
      ],
      "text/plain": [
       "<class 'statsmodels.iolib.summary.Summary'>\n",
       "\"\"\"\n",
       "                                 OLS Regression Results                                \n",
       "=======================================================================================\n",
       "Dep. Variable:               int_rate   R-squared (uncentered):                   1.000\n",
       "Model:                            OLS   Adj. R-squared (uncentered):              1.000\n",
       "Method:                 Least Squares   F-statistic:                          6.282e+34\n",
       "Date:                Thu, 20 Oct 2022   Prob (F-statistic):                        0.00\n",
       "Time:                        00:40:17   Log-Likelihood:                      5.5818e+06\n",
       "No. Observations:              180978   AIC:                                 -1.116e+07\n",
       "Df Residuals:                  180972   BIC:                                 -1.116e+07\n",
       "Df Model:                           6                                                  \n",
       "Covariance Type:            nonrobust                                                  \n",
       "=======================================================================================\n",
       "                          coef    std err          t      P>|t|      [0.025      0.975]\n",
       "---------------------------------------------------------------------------------------\n",
       "loan_amnt            5.184e-19   2.93e-21    177.218      0.000    5.13e-19    5.24e-19\n",
       "inq_last_6mths      -7.772e-15   2.63e-17   -295.599      0.000   -7.82e-15   -7.72e-15\n",
       "int_rate                1.0000   5.57e-18    1.8e+17      0.000       1.000       1.000\n",
       "bc_util             -6.245e-17   8.17e-19    -76.456      0.000   -6.41e-17   -6.08e-17\n",
       "log_last_pymnt_amnt  5.135e-16   1.06e-17     48.493      0.000    4.93e-16    5.34e-16\n",
       "duration             1.058e-16   2.16e-18     49.016      0.000    1.02e-16     1.1e-16\n",
       "==============================================================================\n",
       "Omnibus:                    15683.169   Durbin-Watson:                   1.899\n",
       "Prob(Omnibus):                  0.000   Jarque-Bera (JB):            22711.903\n",
       "Skew:                           0.695   Prob(JB):                         0.00\n",
       "Kurtosis:                       4.038   Cond. No.                     1.99e+04\n",
       "==============================================================================\n",
       "\n",
       "Notes:\n",
       "[1] R² is computed without centering (uncentered) since the model does not contain a constant.\n",
       "[2] Standard Errors assume that the covariance matrix of the errors is correctly specified.\n",
       "[3] The condition number is large, 1.99e+04. This might indicate that there are\n",
       "strong multicollinearity or other numerical problems.\n",
       "\"\"\""
      ]
     },
     "execution_count": 36,
     "metadata": {},
     "output_type": "execute_result"
    }
   ],
   "source": [
    "reg_multi = sm.OLS(train['int_rate'], train[pred_vars], hasconst=False).fit()\n",
    "reg_multi.summary()"
   ]
  },
  {
   "cell_type": "code",
   "execution_count": 37,
   "metadata": {},
   "outputs": [
    {
     "name": "stdout",
     "output_type": "stream",
     "text": [
      "-11163604.188716834\n"
     ]
    }
   ],
   "source": [
    "print(reg_multi.aic)"
   ]
  },
  {
   "cell_type": "code",
   "execution_count": 40,
   "metadata": {},
   "outputs": [
    {
     "name": "stdout",
     "output_type": "stream",
     "text": [
      "9.91286636332359e-15\n"
     ]
    }
   ],
   "source": [
    "multi_pred = reg_multi.predict(test[pred_vars])\n",
    "\n",
    "multi_rmse = metrics.mean_squared_error(test['int_rate'], multi_pred, squared=False)\n",
    "print( multi_rmse)"
   ]
  }
 ],
 "metadata": {
  "kernelspec": {
   "display_name": "Python 3.9.12 ('base')",
   "language": "python",
   "name": "python3"
  },
  "language_info": {
   "codemirror_mode": {
    "name": "ipython",
    "version": 3
   },
   "file_extension": ".py",
   "mimetype": "text/x-python",
   "name": "python",
   "nbconvert_exporter": "python",
   "pygments_lexer": "ipython3",
   "version": "3.9.12"
  },
  "vscode": {
   "interpreter": {
    "hash": "34e99f8ed17b83ae722441374bc973f4e0272a7c9f4043a46aac7a68dbd62340"
   }
  }
 },
 "nbformat": 4,
 "nbformat_minor": 4
}
